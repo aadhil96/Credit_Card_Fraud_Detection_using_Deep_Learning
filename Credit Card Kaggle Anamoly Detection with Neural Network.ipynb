{
 "cells": [
  {
   "cell_type": "markdown",
   "metadata": {},
   "source": [
    "#### Context\n",
    "It is important that credit card companies are able to recognize fraudulent credit card transactions so that customers are not charged for items that they did not purchase.\n",
    "\n",
    "#### Content\n",
    "The datasets contains transactions made by credit cards in September 2013 by european cardholders. This dataset presents transactions that occurred in two days, where we have 492 frauds out of 284,807 transactions. The dataset is highly unbalanced, the positive class (frauds) account for 0.172% of all transactions.\n",
    "\n",
    "It contains only numerical input variables which are the result of a PCA transformation. Unfortunately, due to confidentiality issues, we cannot provide the original features and more background information about the data. Features V1, V2, ... V28 are the principal components obtained with PCA, the only features which have not been transformed with PCA are 'Time' and 'Amount'. Feature 'Time' contains the seconds elapsed between each transaction and the first transaction in the dataset. The feature 'Amount' is the transaction Amount, this feature can be used for example-dependant cost-senstive learning. Feature 'Class' is the response variable and it takes value 1 in case of fraud and 0 otherwise.\n",
    "\n",
    "#### Inspiration\n",
    "Identify fraudulent credit card transactions.\n",
    "\n",
    "Given the class imbalance ratio, we recommend measuring the accuracy using the Area Under the Precision-Recall Curve (AUPRC). Confusion matrix accuracy is not meaningful for unbalanced classification.\n",
    "\n",
    "#### Acknowledgements\n",
    "The dataset has been collected and analysed during a research collaboration of Worldline and the Machine Learning Group (http://mlg.ulb.ac.be) of ULB (Université Libre de Bruxelles) on big data mining and fraud detection. More details on current and past projects on related topics are available on https://www.researchgate.net/project/Fraud-detection-5 and the page of the DefeatFraud project"
   ]
  },
  {
   "cell_type": "code",
   "execution_count": 2,
   "metadata": {},
   "outputs": [
    {
     "name": "stderr",
     "output_type": "stream",
     "text": [
      "Using TensorFlow backend.\n"
     ]
    }
   ],
   "source": [
    "# Importing the libraries\n",
    "import numpy as np\n",
    "import matplotlib.pyplot as plt\n",
    "import pandas as pd\n",
    "from sklearn.preprocessing import StandardScaler\n",
    "from sklearn.model_selection import train_test_split\n",
    "\n",
    "from math import sqrt\n",
    "\n",
    "import sklearn.utils\n",
    "from sklearn.preprocessing import RobustScaler #Scaling the features\n",
    "from sklearn.model_selection import StratifiedShuffleSplit #Splitting the dataset\n",
    "from sklearn.metrics import accuracy_score, classification_report, confusion_matrix, make_scorer, precision_score, recall_score, f1_score, roc_auc_score, roc_curve, precision_recall_curve, average_precision_score, auc\n",
    "from sklearn.model_selection import GridSearchCV #hyperparameter tuning\n",
    "from sklearn.decomposition import PCA\n",
    "\n",
    "#Visual Analysis\n",
    "%matplotlib inline\n",
    "import matplotlib.pyplot as plt\n",
    "from matplotlib import rcParams\n",
    "import seaborn as sns\n",
    "import IPython\n",
    "\n",
    "from imblearn.over_sampling import ADASYN #Adaptive Synthetic Oversampling\n",
    "from collections import Counter\n",
    "from scipy import stats\n",
    "\n",
    "#Neural Networks implementation\n",
    "import keras\n",
    "import tensorflow as tf\n",
    "from tensorflow.keras import backend as K\n",
    "from tensorflow.keras.models import Sequential\n",
    "from tensorflow.keras.layers import Dense, Dropout\n",
    "from tensorflow.keras.optimizers import Adam\n",
    "from tensorflow.keras.wrappers.scikit_learn import KerasClassifier\n",
    "#from tensorflow.keras.constraints import maxnorm\n",
    "#from tensorflow.keras.utils.vis_utils import plot_model\n",
    "\n",
    "import warnings\n",
    "warnings.filterwarnings('ignore')\n",
    "\n"
   ]
  },
  {
   "cell_type": "code",
   "execution_count": 3,
   "metadata": {},
   "outputs": [],
   "source": [
    "#import Dataset\n",
    "dataset = pd.read_csv('creditcard.csv')"
   ]
  },
  {
   "cell_type": "code",
   "execution_count": 4,
   "metadata": {},
   "outputs": [
    {
     "data": {
      "text/plain": [
       "(284807, 31)"
      ]
     },
     "execution_count": 4,
     "metadata": {},
     "output_type": "execute_result"
    }
   ],
   "source": [
    "#Number of instances and attributes,i.e., Dimensionality of the dataset\n",
    "dataset.shape"
   ]
  },
  {
   "cell_type": "code",
   "execution_count": 5,
   "metadata": {},
   "outputs": [
    {
     "name": "stdout",
     "output_type": "stream",
     "text": [
      "<class 'pandas.core.frame.DataFrame'>\n",
      "RangeIndex: 284807 entries, 0 to 284806\n",
      "Data columns (total 31 columns):\n",
      " #   Column  Non-Null Count   Dtype  \n",
      "---  ------  --------------   -----  \n",
      " 0   Time    284807 non-null  float64\n",
      " 1   V1      284807 non-null  float64\n",
      " 2   V2      284807 non-null  float64\n",
      " 3   V3      284807 non-null  float64\n",
      " 4   V4      284807 non-null  float64\n",
      " 5   V5      284807 non-null  float64\n",
      " 6   V6      284807 non-null  float64\n",
      " 7   V7      284807 non-null  float64\n",
      " 8   V8      284807 non-null  float64\n",
      " 9   V9      284807 non-null  float64\n",
      " 10  V10     284807 non-null  float64\n",
      " 11  V11     284807 non-null  float64\n",
      " 12  V12     284807 non-null  float64\n",
      " 13  V13     284807 non-null  float64\n",
      " 14  V14     284807 non-null  float64\n",
      " 15  V15     284807 non-null  float64\n",
      " 16  V16     284807 non-null  float64\n",
      " 17  V17     284807 non-null  float64\n",
      " 18  V18     284807 non-null  float64\n",
      " 19  V19     284807 non-null  float64\n",
      " 20  V20     284807 non-null  float64\n",
      " 21  V21     284807 non-null  float64\n",
      " 22  V22     284807 non-null  float64\n",
      " 23  V23     284807 non-null  float64\n",
      " 24  V24     284807 non-null  float64\n",
      " 25  V25     284807 non-null  float64\n",
      " 26  V26     284807 non-null  float64\n",
      " 27  V27     284807 non-null  float64\n",
      " 28  V28     284807 non-null  float64\n",
      " 29  Amount  284807 non-null  float64\n",
      " 30  Class   284807 non-null  int64  \n",
      "dtypes: float64(30), int64(1)\n",
      "memory usage: 67.4 MB\n"
     ]
    }
   ],
   "source": [
    "dataset.info()"
   ]
  },
  {
   "cell_type": "code",
   "execution_count": 6,
   "metadata": {},
   "outputs": [
    {
     "data": {
      "text/plain": [
       "Time      0\n",
       "V1        0\n",
       "V2        0\n",
       "V3        0\n",
       "V4        0\n",
       "V5        0\n",
       "V6        0\n",
       "V7        0\n",
       "V8        0\n",
       "V9        0\n",
       "V10       0\n",
       "V11       0\n",
       "V12       0\n",
       "V13       0\n",
       "V14       0\n",
       "V15       0\n",
       "V16       0\n",
       "V17       0\n",
       "V18       0\n",
       "V19       0\n",
       "V20       0\n",
       "V21       0\n",
       "V22       0\n",
       "V23       0\n",
       "V24       0\n",
       "V25       0\n",
       "V26       0\n",
       "V27       0\n",
       "V28       0\n",
       "Amount    0\n",
       "Class     0\n",
       "dtype: int64"
      ]
     },
     "execution_count": 6,
     "metadata": {},
     "output_type": "execute_result"
    }
   ],
   "source": [
    "#Sum of missing cells for each attribute\n",
    "dataset.isnull().sum()"
   ]
  },
  {
   "cell_type": "code",
   "execution_count": 7,
   "metadata": {},
   "outputs": [
    {
     "data": {
      "text/plain": [
       "2"
      ]
     },
     "execution_count": 7,
     "metadata": {},
     "output_type": "execute_result"
    }
   ],
   "source": [
    "#Number of distinct categories or classes i.e., Fraudulent and Genuine\n",
    "dataset['Class'].nunique()"
   ]
  },
  {
   "cell_type": "code",
   "execution_count": 8,
   "metadata": {},
   "outputs": [
    {
     "data": {
      "text/plain": [
       "0    284315\n",
       "1       492\n",
       "Name: Class, dtype: int64"
      ]
     },
     "execution_count": 8,
     "metadata": {},
     "output_type": "execute_result"
    }
   ],
   "source": [
    "#number of instances per class\n",
    "dataset.Class.value_counts()"
   ]
  },
  {
   "cell_type": "code",
   "execution_count": 9,
   "metadata": {},
   "outputs": [
    {
     "data": {
      "text/plain": [
       "<matplotlib.axes._subplots.AxesSubplot at 0x17eef54ffc8>"
      ]
     },
     "execution_count": 9,
     "metadata": {},
     "output_type": "execute_result"
    },
    {
     "data": {
      "image/png": "[encoded data removed]",
      "text/plain": [
       "<Figure size 432x288 with 1 Axes>"
      ]
     },
     "metadata": {
      "needs_background": "light"
     },
     "output_type": "display_data"
    }
   ],
   "source": [
    "#visual representation of instances per class\n",
    "dataset.Class.value_counts().plot.bar()"
   ]
  },
  {
   "cell_type": "code",
   "execution_count": null,
   "metadata": {},
   "outputs": [],
   "source": []
  },
  {
   "cell_type": "code",
   "execution_count": 10,
   "metadata": {},
   "outputs": [
    {
     "data": {
      "text/plain": [
       "<seaborn.axisgrid.FacetGrid at 0x17eef67f488>"
      ]
     },
     "execution_count": 10,
     "metadata": {},
     "output_type": "execute_result"
    },
    {
     "data": {
      "image/png": "[encoded data removed]",
      "text/plain": [
       "<Figure size 402.375x360 with 1 Axes>"
      ]
     },
     "metadata": {
      "needs_background": "light"
     },
     "output_type": "display_data"
    }
   ],
   "source": [
    "#Before sampling (PCA is performed for visualization only)\n",
    "pca= PCA(n_components=2)\n",
    "creditcard_2d= pd.DataFrame(pca.fit_transform(dataset.iloc[:,0:30]))\n",
    "creditcard_2d= pd.concat([creditcard_2d, dataset['Class']], axis=1)\n",
    "creditcard_2d.columns= ['x', 'y', 'Class']\n",
    "sns.lmplot(x='x', y='y', data=creditcard_2d, fit_reg=False, hue='Class')"
   ]
  },
  {
   "cell_type": "code",
   "execution_count": 11,
   "metadata": {},
   "outputs": [
    {
     "data": {
      "text/html": [
       "<div>\n",
       "<style scoped>\n",
       "    .dataframe tbody tr th:only-of-type {\n",
       "        vertical-align: middle;\n",
       "    }\n",
       "\n",
       "    .dataframe tbody tr th {\n",
       "        vertical-align: top;\n",
       "    }\n",
       "\n",
       "    .dataframe thead th {\n",
       "        text-align: right;\n",
       "    }\n",
       "</style>\n",
       "<table border=\"1\" class=\"dataframe\">\n",
       "  <thead>\n",
       "    <tr style=\"text-align: right;\">\n",
       "      <th></th>\n",
       "      <th>Time</th>\n",
       "      <th>V1</th>\n",
       "      <th>V2</th>\n",
       "      <th>V3</th>\n",
       "      <th>V4</th>\n",
       "      <th>V5</th>\n",
       "      <th>V6</th>\n",
       "      <th>V7</th>\n",
       "      <th>V8</th>\n",
       "      <th>V9</th>\n",
       "      <th>...</th>\n",
       "      <th>V21</th>\n",
       "      <th>V22</th>\n",
       "      <th>V23</th>\n",
       "      <th>V24</th>\n",
       "      <th>V25</th>\n",
       "      <th>V26</th>\n",
       "      <th>V27</th>\n",
       "      <th>V28</th>\n",
       "      <th>Amount</th>\n",
       "      <th>Class</th>\n",
       "    </tr>\n",
       "  </thead>\n",
       "  <tbody>\n",
       "    <tr>\n",
       "      <th>count</th>\n",
       "      <td>284807.000000</td>\n",
       "      <td>2.848070e+05</td>\n",
       "      <td>2.848070e+05</td>\n",
       "      <td>2.848070e+05</td>\n",
       "      <td>2.848070e+05</td>\n",
       "      <td>2.848070e+05</td>\n",
       "      <td>2.848070e+05</td>\n",
       "      <td>2.848070e+05</td>\n",
       "      <td>2.848070e+05</td>\n",
       "      <td>2.848070e+05</td>\n",
       "      <td>...</td>\n",
       "      <td>2.848070e+05</td>\n",
       "      <td>2.848070e+05</td>\n",
       "      <td>2.848070e+05</td>\n",
       "      <td>2.848070e+05</td>\n",
       "      <td>2.848070e+05</td>\n",
       "      <td>2.848070e+05</td>\n",
       "      <td>2.848070e+05</td>\n",
       "      <td>2.848070e+05</td>\n",
       "      <td>284807.000000</td>\n",
       "      <td>284807.000000</td>\n",
       "    </tr>\n",
       "    <tr>\n",
       "      <th>mean</th>\n",
       "      <td>94813.859575</td>\n",
       "      <td>3.919560e-15</td>\n",
       "      <td>5.688174e-16</td>\n",
       "      <td>-8.769071e-15</td>\n",
       "      <td>2.782312e-15</td>\n",
       "      <td>-1.552563e-15</td>\n",
       "      <td>2.010663e-15</td>\n",
       "      <td>-1.694249e-15</td>\n",
       "      <td>-1.927028e-16</td>\n",
       "      <td>-3.137024e-15</td>\n",
       "      <td>...</td>\n",
       "      <td>1.537294e-16</td>\n",
       "      <td>7.959909e-16</td>\n",
       "      <td>5.367590e-16</td>\n",
       "      <td>4.458112e-15</td>\n",
       "      <td>1.453003e-15</td>\n",
       "      <td>1.699104e-15</td>\n",
       "      <td>-3.660161e-16</td>\n",
       "      <td>-1.206049e-16</td>\n",
       "      <td>88.349619</td>\n",
       "      <td>0.001727</td>\n",
       "    </tr>\n",
       "    <tr>\n",
       "      <th>std</th>\n",
       "      <td>47488.145955</td>\n",
       "      <td>1.958696e+00</td>\n",
       "      <td>1.651309e+00</td>\n",
       "      <td>1.516255e+00</td>\n",
       "      <td>1.415869e+00</td>\n",
       "      <td>1.380247e+00</td>\n",
       "      <td>1.332271e+00</td>\n",
       "      <td>1.237094e+00</td>\n",
       "      <td>1.194353e+00</td>\n",
       "      <td>1.098632e+00</td>\n",
       "      <td>...</td>\n",
       "      <td>7.345240e-01</td>\n",
       "      <td>7.257016e-01</td>\n",
       "      <td>6.244603e-01</td>\n",
       "      <td>6.056471e-01</td>\n",
       "      <td>5.212781e-01</td>\n",
       "      <td>4.822270e-01</td>\n",
       "      <td>4.036325e-01</td>\n",
       "      <td>3.300833e-01</td>\n",
       "      <td>250.120109</td>\n",
       "      <td>0.041527</td>\n",
       "    </tr>\n",
       "    <tr>\n",
       "      <th>min</th>\n",
       "      <td>0.000000</td>\n",
       "      <td>-5.640751e+01</td>\n",
       "      <td>-7.271573e+01</td>\n",
       "      <td>-4.832559e+01</td>\n",
       "      <td>-5.683171e+00</td>\n",
       "      <td>-1.137433e+02</td>\n",
       "      <td>-2.616051e+01</td>\n",
       "      <td>-4.355724e+01</td>\n",
       "      <td>-7.321672e+01</td>\n",
       "      <td>-1.343407e+01</td>\n",
       "      <td>...</td>\n",
       "      <td>-3.483038e+01</td>\n",
       "      <td>-1.093314e+01</td>\n",
       "      <td>-4.480774e+01</td>\n",
       "      <td>-2.836627e+00</td>\n",
       "      <td>-1.029540e+01</td>\n",
       "      <td>-2.604551e+00</td>\n",
       "      <td>-2.256568e+01</td>\n",
       "      <td>-1.543008e+01</td>\n",
       "      <td>0.000000</td>\n",
       "      <td>0.000000</td>\n",
       "    </tr>\n",
       "    <tr>\n",
       "      <th>25%</th>\n",
       "      <td>54201.500000</td>\n",
       "      <td>-9.203734e-01</td>\n",
       "      <td>-5.985499e-01</td>\n",
       "      <td>-8.903648e-01</td>\n",
       "      <td>-8.486401e-01</td>\n",
       "      <td>-6.915971e-01</td>\n",
       "      <td>-7.682956e-01</td>\n",
       "      <td>-5.540759e-01</td>\n",
       "      <td>-2.086297e-01</td>\n",
       "      <td>-6.430976e-01</td>\n",
       "      <td>...</td>\n",
       "      <td>-2.283949e-01</td>\n",
       "      <td>-5.423504e-01</td>\n",
       "      <td>-1.618463e-01</td>\n",
       "      <td>-3.545861e-01</td>\n",
       "      <td>-3.171451e-01</td>\n",
       "      <td>-3.269839e-01</td>\n",
       "      <td>-7.083953e-02</td>\n",
       "      <td>-5.295979e-02</td>\n",
       "      <td>5.600000</td>\n",
       "      <td>0.000000</td>\n",
       "    </tr>\n",
       "    <tr>\n",
       "      <th>50%</th>\n",
       "      <td>84692.000000</td>\n",
       "      <td>1.810880e-02</td>\n",
       "      <td>6.548556e-02</td>\n",
       "      <td>1.798463e-01</td>\n",
       "      <td>-1.984653e-02</td>\n",
       "      <td>-5.433583e-02</td>\n",
       "      <td>-2.741871e-01</td>\n",
       "      <td>4.010308e-02</td>\n",
       "      <td>2.235804e-02</td>\n",
       "      <td>-5.142873e-02</td>\n",
       "      <td>...</td>\n",
       "      <td>-2.945017e-02</td>\n",
       "      <td>6.781943e-03</td>\n",
       "      <td>-1.119293e-02</td>\n",
       "      <td>4.097606e-02</td>\n",
       "      <td>1.659350e-02</td>\n",
       "      <td>-5.213911e-02</td>\n",
       "      <td>1.342146e-03</td>\n",
       "      <td>1.124383e-02</td>\n",
       "      <td>22.000000</td>\n",
       "      <td>0.000000</td>\n",
       "    </tr>\n",
       "    <tr>\n",
       "      <th>75%</th>\n",
       "      <td>139320.500000</td>\n",
       "      <td>1.315642e+00</td>\n",
       "      <td>8.037239e-01</td>\n",
       "      <td>1.027196e+00</td>\n",
       "      <td>7.433413e-01</td>\n",
       "      <td>6.119264e-01</td>\n",
       "      <td>3.985649e-01</td>\n",
       "      <td>5.704361e-01</td>\n",
       "      <td>3.273459e-01</td>\n",
       "      <td>5.971390e-01</td>\n",
       "      <td>...</td>\n",
       "      <td>1.863772e-01</td>\n",
       "      <td>5.285536e-01</td>\n",
       "      <td>1.476421e-01</td>\n",
       "      <td>4.395266e-01</td>\n",
       "      <td>3.507156e-01</td>\n",
       "      <td>2.409522e-01</td>\n",
       "      <td>9.104512e-02</td>\n",
       "      <td>7.827995e-02</td>\n",
       "      <td>77.165000</td>\n",
       "      <td>0.000000</td>\n",
       "    </tr>\n",
       "    <tr>\n",
       "      <th>max</th>\n",
       "      <td>172792.000000</td>\n",
       "      <td>2.454930e+00</td>\n",
       "      <td>2.205773e+01</td>\n",
       "      <td>9.382558e+00</td>\n",
       "      <td>1.687534e+01</td>\n",
       "      <td>3.480167e+01</td>\n",
       "      <td>7.330163e+01</td>\n",
       "      <td>1.205895e+02</td>\n",
       "      <td>2.000721e+01</td>\n",
       "      <td>1.559499e+01</td>\n",
       "      <td>...</td>\n",
       "      <td>2.720284e+01</td>\n",
       "      <td>1.050309e+01</td>\n",
       "      <td>2.252841e+01</td>\n",
       "      <td>4.584549e+00</td>\n",
       "      <td>7.519589e+00</td>\n",
       "      <td>3.517346e+00</td>\n",
       "      <td>3.161220e+01</td>\n",
       "      <td>3.384781e+01</td>\n",
       "      <td>25691.160000</td>\n",
       "      <td>1.000000</td>\n",
       "    </tr>\n",
       "  </tbody>\n",
       "</table>\n",
       "<p>8 rows × 31 columns</p>\n",
       "</div>"
      ],
      "text/plain": [
       "                Time            V1            V2            V3            V4  \\\n",
       "count  284807.000000  2.848070e+05  2.848070e+05  2.848070e+05  2.848070e+05   \n",
       "mean    94813.859575  3.919560e-15  5.688174e-16 -8.769071e-15  2.782312e-15   \n",
       "std     47488.145955  1.958696e+00  1.651309e+00  1.516255e+00  1.415869e+00   \n",
       "min         0.000000 -5.640751e+01 -7.271573e+01 -4.832559e+01 -5.683171e+00   \n",
       "25%     54201.500000 -9.203734e-01 -5.985499e-01 -8.903648e-01 -8.486401e-01   \n",
       "50%     84692.000000  1.810880e-02  6.548556e-02  1.798463e-01 -1.984653e-02   \n",
       "75%    139320.500000  1.315642e+00  8.037239e-01  1.027196e+00  7.433413e-01   \n",
       "max    172792.000000  2.454930e+00  2.205773e+01  9.382558e+00  1.687534e+01   \n",
       "\n",
       "                 V5            V6            V7            V8            V9  \\\n",
       "count  2.848070e+05  2.848070e+05  2.848070e+05  2.848070e+05  2.848070e+05   \n",
       "mean  -1.552563e-15  2.010663e-15 -1.694249e-15 -1.927028e-16 -3.137024e-15   \n",
       "std    1.380247e+00  1.332271e+00  1.237094e+00  1.194353e+00  1.098632e+00   \n",
       "min   -1.137433e+02 -2.616051e+01 -4.355724e+01 -7.321672e+01 -1.343407e+01   \n",
       "25%   -6.915971e-01 -7.682956e-01 -5.540759e-01 -2.086297e-01 -6.430976e-01   \n",
       "50%   -5.433583e-02 -2.741871e-01  4.010308e-02  2.235804e-02 -5.142873e-02   \n",
       "75%    6.119264e-01  3.985649e-01  5.704361e-01  3.273459e-01  5.971390e-01   \n",
       "max    3.480167e+01  7.330163e+01  1.205895e+02  2.000721e+01  1.559499e+01   \n",
       "\n",
       "       ...           V21           V22           V23           V24  \\\n",
       "count  ...  2.848070e+05  2.848070e+05  2.848070e+05  2.848070e+05   \n",
       "mean   ...  1.537294e-16  7.959909e-16  5.367590e-16  4.458112e-15   \n",
       "std    ...  7.345240e-01  7.257016e-01  6.244603e-01  6.056471e-01   \n",
       "min    ... -3.483038e+01 -1.093314e+01 -4.480774e+01 -2.836627e+00   \n",
       "25%    ... -2.283949e-01 -5.423504e-01 -1.618463e-01 -3.545861e-01   \n",
       "50%    ... -2.945017e-02  6.781943e-03 -1.119293e-02  4.097606e-02   \n",
       "75%    ...  1.863772e-01  5.285536e-01  1.476421e-01  4.395266e-01   \n",
       "max    ...  2.720284e+01  1.050309e+01  2.252841e+01  4.584549e+00   \n",
       "\n",
       "                V25           V26           V27           V28         Amount  \\\n",
       "count  2.848070e+05  2.848070e+05  2.848070e+05  2.848070e+05  284807.000000   \n",
       "mean   1.453003e-15  1.699104e-15 -3.660161e-16 -1.206049e-16      88.349619   \n",
       "std    5.212781e-01  4.822270e-01  4.036325e-01  3.300833e-01     250.120109   \n",
       "min   -1.029540e+01 -2.604551e+00 -2.256568e+01 -1.543008e+01       0.000000   \n",
       "25%   -3.171451e-01 -3.269839e-01 -7.083953e-02 -5.295979e-02       5.600000   \n",
       "50%    1.659350e-02 -5.213911e-02  1.342146e-03  1.124383e-02      22.000000   \n",
       "75%    3.507156e-01  2.409522e-01  9.104512e-02  7.827995e-02      77.165000   \n",
       "max    7.519589e+00  3.517346e+00  3.161220e+01  3.384781e+01   25691.160000   \n",
       "\n",
       "               Class  \n",
       "count  284807.000000  \n",
       "mean        0.001727  \n",
       "std         0.041527  \n",
       "min         0.000000  \n",
       "25%         0.000000  \n",
       "50%         0.000000  \n",
       "75%         0.000000  \n",
       "max         1.000000  \n",
       "\n",
       "[8 rows x 31 columns]"
      ]
     },
     "execution_count": 11,
     "metadata": {},
     "output_type": "execute_result"
    }
   ],
   "source": [
    "#Descriptive Statistics\n",
    "dataset.describe()"
   ]
  },
  {
   "cell_type": "code",
   "execution_count": 12,
   "metadata": {},
   "outputs": [
    {
     "data": {
      "text/plain": [
       "0    0.998273\n",
       "1    0.001727\n",
       "Name: Class, dtype: float64"
      ]
     },
     "execution_count": 12,
     "metadata": {},
     "output_type": "execute_result"
    }
   ],
   "source": [
    "#checking the percentage of each class in the dataset\n",
    "(dataset.Class.value_counts())/(dataset.Class.count())"
   ]
  },
  {
   "cell_type": "code",
   "execution_count": 13,
   "metadata": {},
   "outputs": [
    {
     "data": {
      "image/png": "[encoded data removed]",
      "text/plain": [
       "<Figure size 864x288 with 2 Axes>"
      ]
     },
     "metadata": {
      "needs_background": "light"
     },
     "output_type": "display_data"
    }
   ],
   "source": [
    "#Histrogram for feature Time\n",
    "f, (ax1, ax2) = plt.subplots(2, 1, sharex=True, figsize=(12,4))\n",
    "\n",
    "ax1.hist(dataset[\"Time\"][dataset[\"Class\"] == 1], bins = 50)\n",
    "ax1.set_title('Fraudulent')\n",
    "\n",
    "ax2.hist(dataset[\"Time\"][dataset[\"Class\"] == 0], bins = 50)\n",
    "ax2.set_title('Genuine')\n",
    "\n",
    "plt.xlabel('Seconds after transaction number zero')\n",
    "plt.ylabel('Number of Transactions')\n",
    "plt.show()"
   ]
  },
  {
   "cell_type": "markdown",
   "metadata": {},
   "source": [
    "The transactions occur in a cyclic way. But the time feature does not provide any useful information as the time when the first transaction was initiated is not given. Thus, we'll drop this feature"
   ]
  },
  {
   "cell_type": "code",
   "execution_count": 14,
   "metadata": {},
   "outputs": [
    {
     "data": {
      "text/plain": [
       "(284807, 30)"
      ]
     },
     "execution_count": 14,
     "metadata": {},
     "output_type": "execute_result"
    }
   ],
   "source": [
    "#dropping Time because it does not give any valuable information\n",
    "dataset = dataset.drop(\"Time\", axis = 1)\n",
    "dataset.shape"
   ]
  },
  {
   "cell_type": "code",
   "execution_count": 15,
   "metadata": {},
   "outputs": [
    {
     "name": "stdout",
     "output_type": "stream",
     "text": [
      "Fraudulent Transactions\n"
     ]
    },
    {
     "data": {
      "text/plain": [
       "count     492.000000\n",
       "mean      122.211321\n",
       "std       256.683288\n",
       "min         0.000000\n",
       "25%         1.000000\n",
       "50%         9.250000\n",
       "75%       105.890000\n",
       "max      2125.870000\n",
       "Name: Amount, dtype: float64"
      ]
     },
     "execution_count": 15,
     "metadata": {},
     "output_type": "execute_result"
    }
   ],
   "source": [
    "#Descriptive statistics for Fraudulent Transactions\n",
    "print(\"Fraudulent Transactions\")\n",
    "dataset['Amount'][dataset['Class']==1]. describe()"
   ]
  },
  {
   "cell_type": "code",
   "execution_count": 16,
   "metadata": {},
   "outputs": [
    {
     "name": "stdout",
     "output_type": "stream",
     "text": [
      "Genuine Transactions\n"
     ]
    },
    {
     "data": {
      "text/plain": [
       "count    284315.000000\n",
       "mean         88.291022\n",
       "std         250.105092\n",
       "min           0.000000\n",
       "25%           5.650000\n",
       "50%          22.000000\n",
       "75%          77.050000\n",
       "max       25691.160000\n",
       "Name: Amount, dtype: float64"
      ]
     },
     "execution_count": 16,
     "metadata": {},
     "output_type": "execute_result"
    }
   ],
   "source": [
    "#Descriptive statistics for Genuine Transactions\n",
    "print(\"Genuine Transactions\")\n",
    "dataset['Amount'][dataset['Class']==0]. describe()"
   ]
  },
  {
   "cell_type": "code",
   "execution_count": 17,
   "metadata": {},
   "outputs": [
    {
     "data": {
      "text/plain": [
       "V1            3.836489\n",
       "V2            2.726820\n",
       "V3            2.299029\n",
       "V4            2.004684\n",
       "V5            1.905081\n",
       "V6            1.774946\n",
       "V7            1.530401\n",
       "V8            1.426479\n",
       "V9            1.206992\n",
       "V10           1.185594\n",
       "V11           1.041855\n",
       "V12           0.998403\n",
       "V13           0.990571\n",
       "V14           0.918906\n",
       "V15           0.837803\n",
       "V16           0.767819\n",
       "V17           0.721373\n",
       "V18           0.702539\n",
       "V19           0.662662\n",
       "V20           0.594325\n",
       "V21           0.539526\n",
       "V22           0.526643\n",
       "V23           0.389951\n",
       "V24           0.366808\n",
       "V25           0.271731\n",
       "V26           0.232543\n",
       "V27           0.162919\n",
       "V28           0.108955\n",
       "Amount    62560.069046\n",
       "Class         0.001725\n",
       "dtype: float64"
      ]
     },
     "execution_count": 17,
     "metadata": {},
     "output_type": "execute_result"
    }
   ],
   "source": [
    "#Variance\n",
    "dataset.var()"
   ]
  },
  {
   "cell_type": "code",
   "execution_count": 18,
   "metadata": {},
   "outputs": [
    {
     "data": {
      "text/plain": [
       "<matplotlib.axes._subplots.AxesSubplot at 0x17e80fd5248>"
      ]
     },
     "execution_count": 18,
     "metadata": {},
     "output_type": "execute_result"
    },
    {
     "data": {
      "image/png": "[encoded data removed]",
      "text/plain": [
       "<Figure size 432x288 with 1 Axes>"
      ]
     },
     "metadata": {
      "needs_background": "light"
     },
     "output_type": "display_data"
    }
   ],
   "source": [
    "#Boxplot for the Amount feature, in order to visualiza the outliers.\n",
    "sns.boxplot(x=dataset['Class'], y=dataset['Amount'])"
   ]
  },
  {
   "cell_type": "markdown",
   "metadata": {},
   "source": [
    "The non-fraudulent instances are highly skewed. The outliers can be seen visually and thus, it's better to use a Robust Scaler to scale the feature 'Amount' as it is less prone to outliers."
   ]
  },
  {
   "cell_type": "code",
   "execution_count": 19,
   "metadata": {},
   "outputs": [
    {
     "data": {
      "text/html": [
       "<div>\n",
       "<style scoped>\n",
       "    .dataframe tbody tr th:only-of-type {\n",
       "        vertical-align: middle;\n",
       "    }\n",
       "\n",
       "    .dataframe tbody tr th {\n",
       "        vertical-align: top;\n",
       "    }\n",
       "\n",
       "    .dataframe thead th {\n",
       "        text-align: right;\n",
       "    }\n",
       "</style>\n",
       "<table border=\"1\" class=\"dataframe\">\n",
       "  <thead>\n",
       "    <tr style=\"text-align: right;\">\n",
       "      <th></th>\n",
       "      <th>V1</th>\n",
       "      <th>V2</th>\n",
       "      <th>V3</th>\n",
       "      <th>V4</th>\n",
       "      <th>V5</th>\n",
       "      <th>V6</th>\n",
       "      <th>V7</th>\n",
       "      <th>V8</th>\n",
       "      <th>V9</th>\n",
       "      <th>V10</th>\n",
       "      <th>...</th>\n",
       "      <th>V22</th>\n",
       "      <th>V23</th>\n",
       "      <th>V24</th>\n",
       "      <th>V25</th>\n",
       "      <th>V26</th>\n",
       "      <th>V27</th>\n",
       "      <th>V28</th>\n",
       "      <th>Amount</th>\n",
       "      <th>Class</th>\n",
       "      <th>Std_Amount</th>\n",
       "    </tr>\n",
       "  </thead>\n",
       "  <tbody>\n",
       "    <tr>\n",
       "      <th>0</th>\n",
       "      <td>-1.359807</td>\n",
       "      <td>-0.072781</td>\n",
       "      <td>2.536347</td>\n",
       "      <td>1.378155</td>\n",
       "      <td>-0.338321</td>\n",
       "      <td>0.462388</td>\n",
       "      <td>0.239599</td>\n",
       "      <td>0.098698</td>\n",
       "      <td>0.363787</td>\n",
       "      <td>0.090794</td>\n",
       "      <td>...</td>\n",
       "      <td>0.277838</td>\n",
       "      <td>-0.110474</td>\n",
       "      <td>0.066928</td>\n",
       "      <td>0.128539</td>\n",
       "      <td>-0.189115</td>\n",
       "      <td>0.133558</td>\n",
       "      <td>-0.021053</td>\n",
       "      <td>149.62</td>\n",
       "      <td>0</td>\n",
       "      <td>1.783274</td>\n",
       "    </tr>\n",
       "    <tr>\n",
       "      <th>1</th>\n",
       "      <td>1.191857</td>\n",
       "      <td>0.266151</td>\n",
       "      <td>0.166480</td>\n",
       "      <td>0.448154</td>\n",
       "      <td>0.060018</td>\n",
       "      <td>-0.082361</td>\n",
       "      <td>-0.078803</td>\n",
       "      <td>0.085102</td>\n",
       "      <td>-0.255425</td>\n",
       "      <td>-0.166974</td>\n",
       "      <td>...</td>\n",
       "      <td>-0.638672</td>\n",
       "      <td>0.101288</td>\n",
       "      <td>-0.339846</td>\n",
       "      <td>0.167170</td>\n",
       "      <td>0.125895</td>\n",
       "      <td>-0.008983</td>\n",
       "      <td>0.014724</td>\n",
       "      <td>2.69</td>\n",
       "      <td>0</td>\n",
       "      <td>-0.269825</td>\n",
       "    </tr>\n",
       "    <tr>\n",
       "      <th>2</th>\n",
       "      <td>-1.358354</td>\n",
       "      <td>-1.340163</td>\n",
       "      <td>1.773209</td>\n",
       "      <td>0.379780</td>\n",
       "      <td>-0.503198</td>\n",
       "      <td>1.800499</td>\n",
       "      <td>0.791461</td>\n",
       "      <td>0.247676</td>\n",
       "      <td>-1.514654</td>\n",
       "      <td>0.207643</td>\n",
       "      <td>...</td>\n",
       "      <td>0.771679</td>\n",
       "      <td>0.909412</td>\n",
       "      <td>-0.689281</td>\n",
       "      <td>-0.327642</td>\n",
       "      <td>-0.139097</td>\n",
       "      <td>-0.055353</td>\n",
       "      <td>-0.059752</td>\n",
       "      <td>378.66</td>\n",
       "      <td>0</td>\n",
       "      <td>4.983721</td>\n",
       "    </tr>\n",
       "    <tr>\n",
       "      <th>3</th>\n",
       "      <td>-0.966272</td>\n",
       "      <td>-0.185226</td>\n",
       "      <td>1.792993</td>\n",
       "      <td>-0.863291</td>\n",
       "      <td>-0.010309</td>\n",
       "      <td>1.247203</td>\n",
       "      <td>0.237609</td>\n",
       "      <td>0.377436</td>\n",
       "      <td>-1.387024</td>\n",
       "      <td>-0.054952</td>\n",
       "      <td>...</td>\n",
       "      <td>0.005274</td>\n",
       "      <td>-0.190321</td>\n",
       "      <td>-1.175575</td>\n",
       "      <td>0.647376</td>\n",
       "      <td>-0.221929</td>\n",
       "      <td>0.062723</td>\n",
       "      <td>0.061458</td>\n",
       "      <td>123.50</td>\n",
       "      <td>0</td>\n",
       "      <td>1.418291</td>\n",
       "    </tr>\n",
       "    <tr>\n",
       "      <th>4</th>\n",
       "      <td>-1.158233</td>\n",
       "      <td>0.877737</td>\n",
       "      <td>1.548718</td>\n",
       "      <td>0.403034</td>\n",
       "      <td>-0.407193</td>\n",
       "      <td>0.095921</td>\n",
       "      <td>0.592941</td>\n",
       "      <td>-0.270533</td>\n",
       "      <td>0.817739</td>\n",
       "      <td>0.753074</td>\n",
       "      <td>...</td>\n",
       "      <td>0.798278</td>\n",
       "      <td>-0.137458</td>\n",
       "      <td>0.141267</td>\n",
       "      <td>-0.206010</td>\n",
       "      <td>0.502292</td>\n",
       "      <td>0.219422</td>\n",
       "      <td>0.215153</td>\n",
       "      <td>69.99</td>\n",
       "      <td>0</td>\n",
       "      <td>0.670579</td>\n",
       "    </tr>\n",
       "  </tbody>\n",
       "</table>\n",
       "<p>5 rows × 31 columns</p>\n",
       "</div>"
      ],
      "text/plain": [
       "         V1        V2        V3        V4        V5        V6        V7  \\\n",
       "0 -1.359807 -0.072781  2.536347  1.378155 -0.338321  0.462388  0.239599   \n",
       "1  1.191857  0.266151  0.166480  0.448154  0.060018 -0.082361 -0.078803   \n",
       "2 -1.358354 -1.340163  1.773209  0.379780 -0.503198  1.800499  0.791461   \n",
       "3 -0.966272 -0.185226  1.792993 -0.863291 -0.010309  1.247203  0.237609   \n",
       "4 -1.158233  0.877737  1.548718  0.403034 -0.407193  0.095921  0.592941   \n",
       "\n",
       "         V8        V9       V10  ...       V22       V23       V24       V25  \\\n",
       "0  0.098698  0.363787  0.090794  ...  0.277838 -0.110474  0.066928  0.128539   \n",
       "1  0.085102 -0.255425 -0.166974  ... -0.638672  0.101288 -0.339846  0.167170   \n",
       "2  0.247676 -1.514654  0.207643  ...  0.771679  0.909412 -0.689281 -0.327642   \n",
       "3  0.377436 -1.387024 -0.054952  ...  0.005274 -0.190321 -1.175575  0.647376   \n",
       "4 -0.270533  0.817739  0.753074  ...  0.798278 -0.137458  0.141267 -0.206010   \n",
       "\n",
       "        V26       V27       V28  Amount  Class  Std_Amount  \n",
       "0 -0.189115  0.133558 -0.021053  149.62      0    1.783274  \n",
       "1  0.125895 -0.008983  0.014724    2.69      0   -0.269825  \n",
       "2 -0.139097 -0.055353 -0.059752  378.66      0    4.983721  \n",
       "3 -0.221929  0.062723  0.061458  123.50      0    1.418291  \n",
       "4  0.502292  0.219422  0.215153   69.99      0    0.670579  \n",
       "\n",
       "[5 rows x 31 columns]"
      ]
     },
     "execution_count": 19,
     "metadata": {},
     "output_type": "execute_result"
    }
   ],
   "source": [
    "#Standardizing the Amount column (All other 'V' columns are already scaled as they've undergone PCA transformation).\n",
    "Rob_scaler=RobustScaler() #Robust to outliers\n",
    "dataset['Std_Amount'] = Rob_scaler.fit_transform(dataset['Amount'].values.reshape(-1, 1))\n",
    "dataset.head()"
   ]
  },
  {
   "cell_type": "code",
   "execution_count": 20,
   "metadata": {},
   "outputs": [
    {
     "data": {
      "text/html": [
       "<div>\n",
       "<style scoped>\n",
       "    .dataframe tbody tr th:only-of-type {\n",
       "        vertical-align: middle;\n",
       "    }\n",
       "\n",
       "    .dataframe tbody tr th {\n",
       "        vertical-align: top;\n",
       "    }\n",
       "\n",
       "    .dataframe thead th {\n",
       "        text-align: right;\n",
       "    }\n",
       "</style>\n",
       "<table border=\"1\" class=\"dataframe\">\n",
       "  <thead>\n",
       "    <tr style=\"text-align: right;\">\n",
       "      <th></th>\n",
       "      <th>Std_Amount</th>\n",
       "      <th>V1</th>\n",
       "      <th>V2</th>\n",
       "      <th>V3</th>\n",
       "      <th>V4</th>\n",
       "      <th>V5</th>\n",
       "      <th>V6</th>\n",
       "      <th>V7</th>\n",
       "      <th>V8</th>\n",
       "      <th>V9</th>\n",
       "      <th>...</th>\n",
       "      <th>V20</th>\n",
       "      <th>V21</th>\n",
       "      <th>V22</th>\n",
       "      <th>V23</th>\n",
       "      <th>V24</th>\n",
       "      <th>V25</th>\n",
       "      <th>V26</th>\n",
       "      <th>V27</th>\n",
       "      <th>V28</th>\n",
       "      <th>Class</th>\n",
       "    </tr>\n",
       "  </thead>\n",
       "  <tbody>\n",
       "    <tr>\n",
       "      <th>0</th>\n",
       "      <td>1.783274</td>\n",
       "      <td>-1.359807</td>\n",
       "      <td>-0.072781</td>\n",
       "      <td>2.536347</td>\n",
       "      <td>1.378155</td>\n",
       "      <td>-0.338321</td>\n",
       "      <td>0.462388</td>\n",
       "      <td>0.239599</td>\n",
       "      <td>0.098698</td>\n",
       "      <td>0.363787</td>\n",
       "      <td>...</td>\n",
       "      <td>0.251412</td>\n",
       "      <td>-0.018307</td>\n",
       "      <td>0.277838</td>\n",
       "      <td>-0.110474</td>\n",
       "      <td>0.066928</td>\n",
       "      <td>0.128539</td>\n",
       "      <td>-0.189115</td>\n",
       "      <td>0.133558</td>\n",
       "      <td>-0.021053</td>\n",
       "      <td>0</td>\n",
       "    </tr>\n",
       "    <tr>\n",
       "      <th>1</th>\n",
       "      <td>-0.269825</td>\n",
       "      <td>1.191857</td>\n",
       "      <td>0.266151</td>\n",
       "      <td>0.166480</td>\n",
       "      <td>0.448154</td>\n",
       "      <td>0.060018</td>\n",
       "      <td>-0.082361</td>\n",
       "      <td>-0.078803</td>\n",
       "      <td>0.085102</td>\n",
       "      <td>-0.255425</td>\n",
       "      <td>...</td>\n",
       "      <td>-0.069083</td>\n",
       "      <td>-0.225775</td>\n",
       "      <td>-0.638672</td>\n",
       "      <td>0.101288</td>\n",
       "      <td>-0.339846</td>\n",
       "      <td>0.167170</td>\n",
       "      <td>0.125895</td>\n",
       "      <td>-0.008983</td>\n",
       "      <td>0.014724</td>\n",
       "      <td>0</td>\n",
       "    </tr>\n",
       "    <tr>\n",
       "      <th>2</th>\n",
       "      <td>4.983721</td>\n",
       "      <td>-1.358354</td>\n",
       "      <td>-1.340163</td>\n",
       "      <td>1.773209</td>\n",
       "      <td>0.379780</td>\n",
       "      <td>-0.503198</td>\n",
       "      <td>1.800499</td>\n",
       "      <td>0.791461</td>\n",
       "      <td>0.247676</td>\n",
       "      <td>-1.514654</td>\n",
       "      <td>...</td>\n",
       "      <td>0.524980</td>\n",
       "      <td>0.247998</td>\n",
       "      <td>0.771679</td>\n",
       "      <td>0.909412</td>\n",
       "      <td>-0.689281</td>\n",
       "      <td>-0.327642</td>\n",
       "      <td>-0.139097</td>\n",
       "      <td>-0.055353</td>\n",
       "      <td>-0.059752</td>\n",
       "      <td>0</td>\n",
       "    </tr>\n",
       "    <tr>\n",
       "      <th>3</th>\n",
       "      <td>1.418291</td>\n",
       "      <td>-0.966272</td>\n",
       "      <td>-0.185226</td>\n",
       "      <td>1.792993</td>\n",
       "      <td>-0.863291</td>\n",
       "      <td>-0.010309</td>\n",
       "      <td>1.247203</td>\n",
       "      <td>0.237609</td>\n",
       "      <td>0.377436</td>\n",
       "      <td>-1.387024</td>\n",
       "      <td>...</td>\n",
       "      <td>-0.208038</td>\n",
       "      <td>-0.108300</td>\n",
       "      <td>0.005274</td>\n",
       "      <td>-0.190321</td>\n",
       "      <td>-1.175575</td>\n",
       "      <td>0.647376</td>\n",
       "      <td>-0.221929</td>\n",
       "      <td>0.062723</td>\n",
       "      <td>0.061458</td>\n",
       "      <td>0</td>\n",
       "    </tr>\n",
       "    <tr>\n",
       "      <th>4</th>\n",
       "      <td>0.670579</td>\n",
       "      <td>-1.158233</td>\n",
       "      <td>0.877737</td>\n",
       "      <td>1.548718</td>\n",
       "      <td>0.403034</td>\n",
       "      <td>-0.407193</td>\n",
       "      <td>0.095921</td>\n",
       "      <td>0.592941</td>\n",
       "      <td>-0.270533</td>\n",
       "      <td>0.817739</td>\n",
       "      <td>...</td>\n",
       "      <td>0.408542</td>\n",
       "      <td>-0.009431</td>\n",
       "      <td>0.798278</td>\n",
       "      <td>-0.137458</td>\n",
       "      <td>0.141267</td>\n",
       "      <td>-0.206010</td>\n",
       "      <td>0.502292</td>\n",
       "      <td>0.219422</td>\n",
       "      <td>0.215153</td>\n",
       "      <td>0</td>\n",
       "    </tr>\n",
       "  </tbody>\n",
       "</table>\n",
       "<p>5 rows × 30 columns</p>\n",
       "</div>"
      ],
      "text/plain": [
       "   Std_Amount        V1        V2        V3        V4        V5        V6  \\\n",
       "0    1.783274 -1.359807 -0.072781  2.536347  1.378155 -0.338321  0.462388   \n",
       "1   -0.269825  1.191857  0.266151  0.166480  0.448154  0.060018 -0.082361   \n",
       "2    4.983721 -1.358354 -1.340163  1.773209  0.379780 -0.503198  1.800499   \n",
       "3    1.418291 -0.966272 -0.185226  1.792993 -0.863291 -0.010309  1.247203   \n",
       "4    0.670579 -1.158233  0.877737  1.548718  0.403034 -0.407193  0.095921   \n",
       "\n",
       "         V7        V8        V9  ...       V20       V21       V22       V23  \\\n",
       "0  0.239599  0.098698  0.363787  ...  0.251412 -0.018307  0.277838 -0.110474   \n",
       "1 -0.078803  0.085102 -0.255425  ... -0.069083 -0.225775 -0.638672  0.101288   \n",
       "2  0.791461  0.247676 -1.514654  ...  0.524980  0.247998  0.771679  0.909412   \n",
       "3  0.237609  0.377436 -1.387024  ... -0.208038 -0.108300  0.005274 -0.190321   \n",
       "4  0.592941 -0.270533  0.817739  ...  0.408542 -0.009431  0.798278 -0.137458   \n",
       "\n",
       "        V24       V25       V26       V27       V28  Class  \n",
       "0  0.066928  0.128539 -0.189115  0.133558 -0.021053      0  \n",
       "1 -0.339846  0.167170  0.125895 -0.008983  0.014724      0  \n",
       "2 -0.689281 -0.327642 -0.139097 -0.055353 -0.059752      0  \n",
       "3 -1.175575  0.647376 -0.221929  0.062723  0.061458      0  \n",
       "4  0.141267 -0.206010  0.502292  0.219422  0.215153      0  \n",
       "\n",
       "[5 rows x 30 columns]"
      ]
     },
     "execution_count": 20,
     "metadata": {},
     "output_type": "execute_result"
    }
   ],
   "source": [
    "#drop Amount and move Std_Amount at index '0'\n",
    "dataset = dataset.drop('Amount',axis=1)\n",
    "\n",
    "Std_Amount = dataset['Std_Amount']\n",
    "dataset.drop('Std_Amount', axis=1, inplace=True)\n",
    "dataset.insert(0, 'Std_Amount', Std_Amount)\n",
    "dataset.head()"
   ]
  },
  {
   "cell_type": "code",
   "execution_count": 21,
   "metadata": {},
   "outputs": [
    {
     "name": "stdout",
     "output_type": "stream",
     "text": [
      "Train: [265518 180305  42664 ...  29062  13766  17677] Test: [263020  11378 147283 ... 274532 269819  64170]\n",
      "Train: [ 72227 114282  16818 ... 264471 191914 284017] Test: [202638  32978 128121 ... 244024 127667  48318]\n",
      "Train: [ 20895 114622 167683 ... 244502 178972 218506] Test: [284352  82483  90981 ... 171224 168807 271602]\n",
      "Train: [122248 181660 194400 ... 104631 277586  29432] Test: [225673  63348  68025 ... 279451  77554  76043]\n",
      "Train: [241684 223467 136928 ...  86495 160550  49633] Test: [157557 204860  83760 ... 251478 178967 216850]\n",
      "Train: [186996 144807  69756 ... 195673 152135 100500] Validation: [214502 127768  18878 ...  45194 143895 114668]\n",
      "Train: [203609 160516 170008 ... 168236  40608 156569] Validation: [152253  33885 217198 ... 219379 125093 195120]\n",
      "Train: [166473 135845 190847 ... 114436 217810 119523] Validation: [135986 136793 153361 ... 221564 222657 122137]\n",
      "Train: [ 16294 187750  97608 ... 157188 191303 201639] Validation: [125168  42557 218854 ... 117014  95701  40813]\n",
      "Train: [ 14162 152802 227171 ... 187465 177484    175] Validation: [ 81275 208151  56152 ...  58305 130407 190408]\n"
     ]
    }
   ],
   "source": [
    "#Splitting data before sampling\n",
    "#Splitting data into train and test set in 80% and 20% respectively, using Stratified Shuffle Split\n",
    "\n",
    "X = dataset.drop('Class', axis=1)\n",
    "Y = dataset['Class']\n",
    "\n",
    "sss1 = StratifiedShuffleSplit(n_splits=5, test_size=0.2, random_state=42)\n",
    "\n",
    "for train_index1, test_index in sss1.split(X, Y):\n",
    "    print(\"Train:\", train_index1, \"Test:\", test_index)\n",
    "    Xtrain, Xtest = X.iloc[train_index1], X.iloc[test_index]\n",
    "    Ytrain, Ytest = Y.iloc[train_index1], Y.iloc[test_index]\n",
    "\n",
    "#Splitting the train set further into train and validation set, which leaves train set 60% of the originial dataset and, test and validation sets 20% each respectively.\n",
    "sss2 = StratifiedShuffleSplit(n_splits=5, test_size=0.25, random_state=42)\n",
    "\n",
    "for train_index2, val_index in sss2.split(Xtrain, Ytrain):\n",
    "    print(\"Train:\", train_index2, \"Validation:\", val_index)\n",
    "    Xtrain_final, Xval = X.iloc[train_index2], X.iloc[val_index]\n",
    "    Ytrain_final, Yval = Y.iloc[train_index2], Y.iloc[val_index]"
   ]
  },
  {
   "cell_type": "markdown",
   "metadata": {},
   "source": [
    "Datasets created after splitting are:\n",
    "\n",
    "1. Train Dataset: Xtrain_final, Ytrain_final\n",
    "2. Test Dataset: Xtest, Ytest\n",
    "3. Validation Dataset: Xval, Yval"
   ]
  },
  {
   "cell_type": "code",
   "execution_count": 22,
   "metadata": {},
   "outputs": [
    {
     "name": "stdout",
     "output_type": "stream",
     "text": [
      "Label Distributions: \n",
      "\n",
      "[0.99807471 0.00192529]\n",
      "[0.99827955 0.00172045]\n",
      "[0.99845511 0.00154489]\n"
     ]
    }
   ],
   "source": [
    "\n",
    "# Check if the labels are distributed equally in all the datasets after splitting\n",
    "train_unique_label, train_counts_label = np.unique(Ytrain_final, return_counts=True)\n",
    "test_unique_label, test_counts_label = np.unique(Ytest, return_counts=True)\n",
    "val_unique_label, val_counts_label = np.unique(Yval, return_counts=True)\n",
    "\n",
    "print('Label Distributions: \\n')\n",
    "print(train_counts_label/ len(Ytrain_final))\n",
    "print(test_counts_label/ len(Ytest))\n",
    "print(val_counts_label/ len(Yval))"
   ]
  },
  {
   "cell_type": "code",
   "execution_count": 23,
   "metadata": {},
   "outputs": [
    {
     "name": "stdout",
     "output_type": "stream",
     "text": [
      "(170883, 29)\n",
      "(170883,)\n",
      "(56962, 29)\n",
      "(56962,)\n",
      "(56962, 29)\n",
      "(56962,)\n"
     ]
    }
   ],
   "source": [
    "#Dimensionality of the datasets retrieved after splitting\n",
    "print(Xtrain_final.shape)\n",
    "print(Ytrain_final.shape)\n",
    "print(Xtest.shape)\n",
    "print(Ytest.shape)\n",
    "print(Xval.shape)\n",
    "print(Yval.shape)"
   ]
  },
  {
   "cell_type": "code",
   "execution_count": 24,
   "metadata": {},
   "outputs": [
    {
     "data": {
      "text/plain": [
       "Text(0.5, 1.0, 'Imbalanced Correlation Matrix')"
      ]
     },
     "execution_count": 24,
     "metadata": {},
     "output_type": "execute_result"
    },
    {
     "data": {
      "image/png": "[encoded data removed]",
      "text/plain": [
       "<Figure size 1728x720 with 2 Axes>"
      ]
     },
     "metadata": {
      "needs_background": "light"
     },
     "output_type": "display_data"
    }
   ],
   "source": [
    "\n",
    "#checking correlation between features and the likelihood of the transaction to be fraud on the unbalanced dataset\n",
    "f, ax1 = plt.subplots(figsize=(24,10))\n",
    "\n",
    "corr = dataset.corr()\n",
    "sns.heatmap(corr, cmap='coolwarm_r', annot_kws={'size':20}, ax=ax1)\n",
    "ax1.set_title(\"Imbalanced Correlation Matrix\", fontsize=14)"
   ]
  },
  {
   "cell_type": "code",
   "execution_count": 25,
   "metadata": {},
   "outputs": [
    {
     "name": "stdout",
     "output_type": "stream",
     "text": [
      "0    170554\n",
      "1       329\n",
      "Name: Class, dtype: int64\n"
     ]
    }
   ],
   "source": [
    "#Checking number of instances for each class in the train dataset\n",
    "print(Ytrain_final.value_counts())"
   ]
  },
  {
   "cell_type": "code",
   "execution_count": 26,
   "metadata": {},
   "outputs": [
    {
     "name": "stdout",
     "output_type": "stream",
     "text": [
      "Resampled dataset shape Counter({1: 170555, 0: 170554})\n",
      "Shape of X_adasampled: (341109, 29)\n",
      "Shape of Y_adasampled: (341109,)\n"
     ]
    }
   ],
   "source": [
    "#Using ADASYN for Oversampling\n",
    "ada = ADASYN(sampling_strategy='minority', random_state=42)\n",
    "\n",
    "#Oversampling is applied only on the training set\n",
    "X_adasampled, Y_adasampled = ada.fit_sample(Xtrain_final, Ytrain_final)\n",
    "print('Resampled dataset shape %s' % Counter(Y_adasampled))\n",
    "print('Shape of X_adasampled: {}'.format(X_adasampled.shape))\n",
    "print('Shape of Y_adasampled: {}'.format(Y_adasampled.shape))"
   ]
  },
  {
   "cell_type": "code",
   "execution_count": 27,
   "metadata": {},
   "outputs": [
    {
     "name": "stdout",
     "output_type": "stream",
     "text": [
      "Label Distributions: \n",
      "\n",
      "[0.49999853 0.50000147]\n"
     ]
    }
   ],
   "source": [
    "#check the disribution of both the labels\n",
    "train_label, train_count = np.unique(Y_adasampled, return_counts=True)\n",
    "print('Label Distributions: \\n')\n",
    "print(train_count/ len(Y_adasampled))"
   ]
  },
  {
   "cell_type": "code",
   "execution_count": 28,
   "metadata": {},
   "outputs": [
    {
     "name": "stdout",
     "output_type": "stream",
     "text": [
      "<class 'pandas.core.frame.DataFrame'>\n",
      "<class 'pandas.core.series.Series'>\n"
     ]
    }
   ],
   "source": [
    "print(type(X_adasampled))\n",
    "print(type(Y_adasampled))"
   ]
  },
  {
   "cell_type": "code",
   "execution_count": 29,
   "metadata": {},
   "outputs": [
    {
     "name": "stdout",
     "output_type": "stream",
     "text": [
      "   Std_Amount        V1        V2        V3        V4        V5        V6  \\\n",
      "0   -0.286173 -0.313555  0.586734  3.039981  2.848687 -0.158865  0.838171   \n",
      "1    0.237546  1.883183 -0.640580  0.094691  0.386752 -0.859323  0.238667   \n",
      "2    1.170265 -5.593796 -3.140554 -0.055757  1.539374  1.321195  1.449076   \n",
      "3   -0.267729 -0.851124  0.819195  2.014788 -0.634556 -0.166583  0.779931   \n",
      "4    1.369384 -1.339343  0.842304  2.210153  3.009876 -0.501056  1.506612   \n",
      "\n",
      "         V7        V8        V9  ...       V19       V20       V21       V22  \\\n",
      "0 -0.305911  0.136755  1.081775  ...  0.211776  0.064667 -0.064730  0.538368   \n",
      "1 -1.172713  0.238254  2.560352  ... -0.228614 -0.191241 -0.063316  0.025427   \n",
      "2  0.494910 -0.187489  1.098618  ...  0.313058 -3.165442 -0.732926  1.617461   \n",
      "3 -0.248282  0.440142  1.000038  ...  0.608179  0.309633  0.133497  0.615617   \n",
      "4  0.044767  0.574622 -0.545759  ...  1.033634  0.245178 -0.188658 -0.159114   \n",
      "\n",
      "        V23       V24       V25       V26       V27       V28  \n",
      "0  0.017643  0.514390 -0.970922 -0.131954  0.072962 -0.014056  \n",
      "1  0.346800  0.700140 -0.686270  0.387537 -0.060475 -0.044121  \n",
      "2  1.182141 -1.534997  0.203254 -0.308358 -0.982457 -0.584698  \n",
      "3 -0.475375  0.010686  0.582486 -0.302416  0.486000  0.209563  \n",
      "4 -0.241138 -0.402550  0.057283  0.231537  0.067849 -0.249524  \n",
      "\n",
      "[5 rows x 29 columns]\n",
      "   Class\n",
      "0      0\n",
      "1      0\n",
      "2      0\n",
      "3      0\n",
      "4      0\n"
     ]
    }
   ],
   "source": [
    "Xsm_train_df = pd.DataFrame(X_adasampled)\n",
    "Xsm_train_df.columns = Xtrain.columns\n",
    "Ysm_train_df = pd.DataFrame(Y_adasampled)\n",
    "Ysm_train_df = Ysm_train_df.rename(columns={0: 'Class'})\n",
    "print(Xsm_train_df.head())\n",
    "print(Ysm_train_df.head())"
   ]
  },
  {
   "cell_type": "code",
   "execution_count": 30,
   "metadata": {},
   "outputs": [
    {
     "data": {
      "text/html": [
       "<div>\n",
       "<style scoped>\n",
       "    .dataframe tbody tr th:only-of-type {\n",
       "        vertical-align: middle;\n",
       "    }\n",
       "\n",
       "    .dataframe tbody tr th {\n",
       "        vertical-align: top;\n",
       "    }\n",
       "\n",
       "    .dataframe thead th {\n",
       "        text-align: right;\n",
       "    }\n",
       "</style>\n",
       "<table border=\"1\" class=\"dataframe\">\n",
       "  <thead>\n",
       "    <tr style=\"text-align: right;\">\n",
       "      <th></th>\n",
       "      <th>Std_Amount</th>\n",
       "      <th>V1</th>\n",
       "      <th>V2</th>\n",
       "      <th>V3</th>\n",
       "      <th>V4</th>\n",
       "      <th>V5</th>\n",
       "      <th>V6</th>\n",
       "      <th>V7</th>\n",
       "      <th>V8</th>\n",
       "      <th>V9</th>\n",
       "      <th>...</th>\n",
       "      <th>V20</th>\n",
       "      <th>V21</th>\n",
       "      <th>V22</th>\n",
       "      <th>V23</th>\n",
       "      <th>V24</th>\n",
       "      <th>V25</th>\n",
       "      <th>V26</th>\n",
       "      <th>V27</th>\n",
       "      <th>V28</th>\n",
       "      <th>Class</th>\n",
       "    </tr>\n",
       "  </thead>\n",
       "  <tbody>\n",
       "    <tr>\n",
       "      <th>0</th>\n",
       "      <td>-0.286173</td>\n",
       "      <td>-0.313555</td>\n",
       "      <td>0.586734</td>\n",
       "      <td>3.039981</td>\n",
       "      <td>2.848687</td>\n",
       "      <td>-0.158865</td>\n",
       "      <td>0.838171</td>\n",
       "      <td>-0.305911</td>\n",
       "      <td>0.136755</td>\n",
       "      <td>1.081775</td>\n",
       "      <td>...</td>\n",
       "      <td>0.064667</td>\n",
       "      <td>-0.064730</td>\n",
       "      <td>0.538368</td>\n",
       "      <td>0.017643</td>\n",
       "      <td>0.514390</td>\n",
       "      <td>-0.970922</td>\n",
       "      <td>-0.131954</td>\n",
       "      <td>0.072962</td>\n",
       "      <td>-0.014056</td>\n",
       "      <td>0</td>\n",
       "    </tr>\n",
       "    <tr>\n",
       "      <th>1</th>\n",
       "      <td>0.237546</td>\n",
       "      <td>1.883183</td>\n",
       "      <td>-0.640580</td>\n",
       "      <td>0.094691</td>\n",
       "      <td>0.386752</td>\n",
       "      <td>-0.859323</td>\n",
       "      <td>0.238667</td>\n",
       "      <td>-1.172713</td>\n",
       "      <td>0.238254</td>\n",
       "      <td>2.560352</td>\n",
       "      <td>...</td>\n",
       "      <td>-0.191241</td>\n",
       "      <td>-0.063316</td>\n",
       "      <td>0.025427</td>\n",
       "      <td>0.346800</td>\n",
       "      <td>0.700140</td>\n",
       "      <td>-0.686270</td>\n",
       "      <td>0.387537</td>\n",
       "      <td>-0.060475</td>\n",
       "      <td>-0.044121</td>\n",
       "      <td>0</td>\n",
       "    </tr>\n",
       "    <tr>\n",
       "      <th>2</th>\n",
       "      <td>1.170265</td>\n",
       "      <td>-5.593796</td>\n",
       "      <td>-3.140554</td>\n",
       "      <td>-0.055757</td>\n",
       "      <td>1.539374</td>\n",
       "      <td>1.321195</td>\n",
       "      <td>1.449076</td>\n",
       "      <td>0.494910</td>\n",
       "      <td>-0.187489</td>\n",
       "      <td>1.098618</td>\n",
       "      <td>...</td>\n",
       "      <td>-3.165442</td>\n",
       "      <td>-0.732926</td>\n",
       "      <td>1.617461</td>\n",
       "      <td>1.182141</td>\n",
       "      <td>-1.534997</td>\n",
       "      <td>0.203254</td>\n",
       "      <td>-0.308358</td>\n",
       "      <td>-0.982457</td>\n",
       "      <td>-0.584698</td>\n",
       "      <td>0</td>\n",
       "    </tr>\n",
       "    <tr>\n",
       "      <th>3</th>\n",
       "      <td>-0.267729</td>\n",
       "      <td>-0.851124</td>\n",
       "      <td>0.819195</td>\n",
       "      <td>2.014788</td>\n",
       "      <td>-0.634556</td>\n",
       "      <td>-0.166583</td>\n",
       "      <td>0.779931</td>\n",
       "      <td>-0.248282</td>\n",
       "      <td>0.440142</td>\n",
       "      <td>1.000038</td>\n",
       "      <td>...</td>\n",
       "      <td>0.309633</td>\n",
       "      <td>0.133497</td>\n",
       "      <td>0.615617</td>\n",
       "      <td>-0.475375</td>\n",
       "      <td>0.010686</td>\n",
       "      <td>0.582486</td>\n",
       "      <td>-0.302416</td>\n",
       "      <td>0.486000</td>\n",
       "      <td>0.209563</td>\n",
       "      <td>0</td>\n",
       "    </tr>\n",
       "    <tr>\n",
       "      <th>4</th>\n",
       "      <td>1.369384</td>\n",
       "      <td>-1.339343</td>\n",
       "      <td>0.842304</td>\n",
       "      <td>2.210153</td>\n",
       "      <td>3.009876</td>\n",
       "      <td>-0.501056</td>\n",
       "      <td>1.506612</td>\n",
       "      <td>0.044767</td>\n",
       "      <td>0.574622</td>\n",
       "      <td>-0.545759</td>\n",
       "      <td>...</td>\n",
       "      <td>0.245178</td>\n",
       "      <td>-0.188658</td>\n",
       "      <td>-0.159114</td>\n",
       "      <td>-0.241138</td>\n",
       "      <td>-0.402550</td>\n",
       "      <td>0.057283</td>\n",
       "      <td>0.231537</td>\n",
       "      <td>0.067849</td>\n",
       "      <td>-0.249524</td>\n",
       "      <td>0</td>\n",
       "    </tr>\n",
       "  </tbody>\n",
       "</table>\n",
       "<p>5 rows × 30 columns</p>\n",
       "</div>"
      ],
      "text/plain": [
       "   Std_Amount        V1        V2        V3        V4        V5        V6  \\\n",
       "0   -0.286173 -0.313555  0.586734  3.039981  2.848687 -0.158865  0.838171   \n",
       "1    0.237546  1.883183 -0.640580  0.094691  0.386752 -0.859323  0.238667   \n",
       "2    1.170265 -5.593796 -3.140554 -0.055757  1.539374  1.321195  1.449076   \n",
       "3   -0.267729 -0.851124  0.819195  2.014788 -0.634556 -0.166583  0.779931   \n",
       "4    1.369384 -1.339343  0.842304  2.210153  3.009876 -0.501056  1.506612   \n",
       "\n",
       "         V7        V8        V9  ...       V20       V21       V22       V23  \\\n",
       "0 -0.305911  0.136755  1.081775  ...  0.064667 -0.064730  0.538368  0.017643   \n",
       "1 -1.172713  0.238254  2.560352  ... -0.191241 -0.063316  0.025427  0.346800   \n",
       "2  0.494910 -0.187489  1.098618  ... -3.165442 -0.732926  1.617461  1.182141   \n",
       "3 -0.248282  0.440142  1.000038  ...  0.309633  0.133497  0.615617 -0.475375   \n",
       "4  0.044767  0.574622 -0.545759  ...  0.245178 -0.188658 -0.159114 -0.241138   \n",
       "\n",
       "        V24       V25       V26       V27       V28  Class  \n",
       "0  0.514390 -0.970922 -0.131954  0.072962 -0.014056      0  \n",
       "1  0.700140 -0.686270  0.387537 -0.060475 -0.044121      0  \n",
       "2 -1.534997  0.203254 -0.308358 -0.982457 -0.584698      0  \n",
       "3  0.010686  0.582486 -0.302416  0.486000  0.209563      0  \n",
       "4 -0.402550  0.057283  0.231537  0.067849 -0.249524      0  \n",
       "\n",
       "[5 rows x 30 columns]"
      ]
     },
     "execution_count": 30,
     "metadata": {},
     "output_type": "execute_result"
    }
   ],
   "source": [
    "#Merging the Xsm_train_df and Ysm_train_df based on the index values to get a single dataframe in order to visualize a correlation matrix\n",
    "new_df= pd.merge(Xsm_train_df, Ysm_train_df, how='inner', left_index=True, right_index=True)\n",
    "new_df.head()"
   ]
  },
  {
   "cell_type": "code",
   "execution_count": 31,
   "metadata": {},
   "outputs": [
    {
     "data": {
      "text/plain": [
       "Text(0.5, 1.0, 'Balanced Correlation Matrix')"
      ]
     },
     "execution_count": 31,
     "metadata": {},
     "output_type": "execute_result"
    },
    {
     "data": {
      "image/png": "[encoded data removed]",
      "text/plain": [
       "<Figure size 1728x720 with 2 Axes>"
      ]
     },
     "metadata": {
      "needs_background": "light"
     },
     "output_type": "display_data"
    }
   ],
   "source": [
    "\n",
    "#checking correlation between features on the balanced dataset\n",
    "f, ax1 = plt.subplots(figsize=(24,10))\n",
    "\n",
    "corr = new_df.corr()\n",
    "sns.heatmap(corr, cmap='coolwarm_r', annot_kws={'size':20}, ax=ax1)\n",
    "ax1.set_title(\"Balanced Correlation Matrix\", fontsize=14)"
   ]
  },
  {
   "cell_type": "code",
   "execution_count": 32,
   "metadata": {},
   "outputs": [
    {
     "data": {
      "text/plain": [
       "<seaborn.axisgrid.FacetGrid at 0x17e87158708>"
      ]
     },
     "execution_count": 32,
     "metadata": {},
     "output_type": "execute_result"
    },
    {
     "data": {
      "image/png": "[encoded data removed]",
      "text/plain": [
       "<Figure size 402.375x360 with 1 Axes>"
      ]
     },
     "metadata": {
      "needs_background": "light"
     },
     "output_type": "display_data"
    }
   ],
   "source": [
    "#visualizing balanced train dataset\n",
    "X_df= pd.DataFrame(X_adasampled)\n",
    "Y_df= pd.DataFrame(Y_adasampled)\n",
    "Y_df=Y_df.rename(columns={0: 'Class'})\n",
    "train_2d= pd.DataFrame(pca.fit_transform(X_df.iloc[:,0:29]))\n",
    "train_2d= pd.concat([train_2d, Y_df], axis=1)\n",
    "train_2d.columns= ['x', 'y', 'Class']\n",
    "sns.lmplot(x='x', y='y', data=train_2d, fit_reg=False, hue='Class')"
   ]
  },
  {
   "cell_type": "code",
   "execution_count": 33,
   "metadata": {},
   "outputs": [
    {
     "data": {
      "text/html": [
       "<div>\n",
       "<style scoped>\n",
       "    .dataframe tbody tr th:only-of-type {\n",
       "        vertical-align: middle;\n",
       "    }\n",
       "\n",
       "    .dataframe tbody tr th {\n",
       "        vertical-align: top;\n",
       "    }\n",
       "\n",
       "    .dataframe thead th {\n",
       "        text-align: right;\n",
       "    }\n",
       "</style>\n",
       "<table border=\"1\" class=\"dataframe\">\n",
       "  <thead>\n",
       "    <tr style=\"text-align: right;\">\n",
       "      <th></th>\n",
       "      <th>Std_Amount</th>\n",
       "      <th>V1</th>\n",
       "      <th>V2</th>\n",
       "      <th>V3</th>\n",
       "      <th>V4</th>\n",
       "      <th>V5</th>\n",
       "      <th>V6</th>\n",
       "      <th>V7</th>\n",
       "      <th>V8</th>\n",
       "      <th>V9</th>\n",
       "      <th>...</th>\n",
       "      <th>V20</th>\n",
       "      <th>V21</th>\n",
       "      <th>V22</th>\n",
       "      <th>V23</th>\n",
       "      <th>V24</th>\n",
       "      <th>V25</th>\n",
       "      <th>V26</th>\n",
       "      <th>V27</th>\n",
       "      <th>V28</th>\n",
       "      <th>Class</th>\n",
       "    </tr>\n",
       "  </thead>\n",
       "  <tbody>\n",
       "    <tr>\n",
       "      <th>14162</th>\n",
       "      <td>-0.286173</td>\n",
       "      <td>-0.313555</td>\n",
       "      <td>0.586734</td>\n",
       "      <td>3.039981</td>\n",
       "      <td>2.848687</td>\n",
       "      <td>-0.158865</td>\n",
       "      <td>0.838171</td>\n",
       "      <td>-0.305911</td>\n",
       "      <td>0.136755</td>\n",
       "      <td>1.081775</td>\n",
       "      <td>...</td>\n",
       "      <td>0.064667</td>\n",
       "      <td>-0.064730</td>\n",
       "      <td>0.538368</td>\n",
       "      <td>0.017643</td>\n",
       "      <td>0.514390</td>\n",
       "      <td>-0.970922</td>\n",
       "      <td>-0.131954</td>\n",
       "      <td>0.072962</td>\n",
       "      <td>-0.014056</td>\n",
       "      <td>0</td>\n",
       "    </tr>\n",
       "    <tr>\n",
       "      <th>152802</th>\n",
       "      <td>0.237546</td>\n",
       "      <td>1.883183</td>\n",
       "      <td>-0.640580</td>\n",
       "      <td>0.094691</td>\n",
       "      <td>0.386752</td>\n",
       "      <td>-0.859323</td>\n",
       "      <td>0.238667</td>\n",
       "      <td>-1.172713</td>\n",
       "      <td>0.238254</td>\n",
       "      <td>2.560352</td>\n",
       "      <td>...</td>\n",
       "      <td>-0.191241</td>\n",
       "      <td>-0.063316</td>\n",
       "      <td>0.025427</td>\n",
       "      <td>0.346800</td>\n",
       "      <td>0.700140</td>\n",
       "      <td>-0.686270</td>\n",
       "      <td>0.387537</td>\n",
       "      <td>-0.060475</td>\n",
       "      <td>-0.044121</td>\n",
       "      <td>0</td>\n",
       "    </tr>\n",
       "    <tr>\n",
       "      <th>227171</th>\n",
       "      <td>1.170265</td>\n",
       "      <td>-5.593796</td>\n",
       "      <td>-3.140554</td>\n",
       "      <td>-0.055757</td>\n",
       "      <td>1.539374</td>\n",
       "      <td>1.321195</td>\n",
       "      <td>1.449076</td>\n",
       "      <td>0.494910</td>\n",
       "      <td>-0.187489</td>\n",
       "      <td>1.098618</td>\n",
       "      <td>...</td>\n",
       "      <td>-3.165442</td>\n",
       "      <td>-0.732926</td>\n",
       "      <td>1.617461</td>\n",
       "      <td>1.182141</td>\n",
       "      <td>-1.534997</td>\n",
       "      <td>0.203254</td>\n",
       "      <td>-0.308358</td>\n",
       "      <td>-0.982457</td>\n",
       "      <td>-0.584698</td>\n",
       "      <td>0</td>\n",
       "    </tr>\n",
       "    <tr>\n",
       "      <th>217316</th>\n",
       "      <td>-0.267729</td>\n",
       "      <td>-0.851124</td>\n",
       "      <td>0.819195</td>\n",
       "      <td>2.014788</td>\n",
       "      <td>-0.634556</td>\n",
       "      <td>-0.166583</td>\n",
       "      <td>0.779931</td>\n",
       "      <td>-0.248282</td>\n",
       "      <td>0.440142</td>\n",
       "      <td>1.000038</td>\n",
       "      <td>...</td>\n",
       "      <td>0.309633</td>\n",
       "      <td>0.133497</td>\n",
       "      <td>0.615617</td>\n",
       "      <td>-0.475375</td>\n",
       "      <td>0.010686</td>\n",
       "      <td>0.582486</td>\n",
       "      <td>-0.302416</td>\n",
       "      <td>0.486000</td>\n",
       "      <td>0.209563</td>\n",
       "      <td>0</td>\n",
       "    </tr>\n",
       "    <tr>\n",
       "      <th>80544</th>\n",
       "      <td>1.369384</td>\n",
       "      <td>-1.339343</td>\n",
       "      <td>0.842304</td>\n",
       "      <td>2.210153</td>\n",
       "      <td>3.009876</td>\n",
       "      <td>-0.501056</td>\n",
       "      <td>1.506612</td>\n",
       "      <td>0.044767</td>\n",
       "      <td>0.574622</td>\n",
       "      <td>-0.545759</td>\n",
       "      <td>...</td>\n",
       "      <td>0.245178</td>\n",
       "      <td>-0.188658</td>\n",
       "      <td>-0.159114</td>\n",
       "      <td>-0.241138</td>\n",
       "      <td>-0.402550</td>\n",
       "      <td>0.057283</td>\n",
       "      <td>0.231537</td>\n",
       "      <td>0.067849</td>\n",
       "      <td>-0.249524</td>\n",
       "      <td>0</td>\n",
       "    </tr>\n",
       "  </tbody>\n",
       "</table>\n",
       "<p>5 rows × 30 columns</p>\n",
       "</div>"
      ],
      "text/plain": [
       "        Std_Amount        V1        V2        V3        V4        V5  \\\n",
       "14162    -0.286173 -0.313555  0.586734  3.039981  2.848687 -0.158865   \n",
       "152802    0.237546  1.883183 -0.640580  0.094691  0.386752 -0.859323   \n",
       "227171    1.170265 -5.593796 -3.140554 -0.055757  1.539374  1.321195   \n",
       "217316   -0.267729 -0.851124  0.819195  2.014788 -0.634556 -0.166583   \n",
       "80544     1.369384 -1.339343  0.842304  2.210153  3.009876 -0.501056   \n",
       "\n",
       "              V6        V7        V8        V9  ...       V20       V21  \\\n",
       "14162   0.838171 -0.305911  0.136755  1.081775  ...  0.064667 -0.064730   \n",
       "152802  0.238667 -1.172713  0.238254  2.560352  ... -0.191241 -0.063316   \n",
       "227171  1.449076  0.494910 -0.187489  1.098618  ... -3.165442 -0.732926   \n",
       "217316  0.779931 -0.248282  0.440142  1.000038  ...  0.309633  0.133497   \n",
       "80544   1.506612  0.044767  0.574622 -0.545759  ...  0.245178 -0.188658   \n",
       "\n",
       "             V22       V23       V24       V25       V26       V27       V28  \\\n",
       "14162   0.538368  0.017643  0.514390 -0.970922 -0.131954  0.072962 -0.014056   \n",
       "152802  0.025427  0.346800  0.700140 -0.686270  0.387537 -0.060475 -0.044121   \n",
       "227171  1.617461  1.182141 -1.534997  0.203254 -0.308358 -0.982457 -0.584698   \n",
       "217316  0.615617 -0.475375  0.010686  0.582486 -0.302416  0.486000  0.209563   \n",
       "80544  -0.159114 -0.241138 -0.402550  0.057283  0.231537  0.067849 -0.249524   \n",
       "\n",
       "        Class  \n",
       "14162       0  \n",
       "152802      0  \n",
       "227171      0  \n",
       "217316      0  \n",
       "80544       0  \n",
       "\n",
       "[5 rows x 30 columns]"
      ]
     },
     "execution_count": 33,
     "metadata": {},
     "output_type": "execute_result"
    }
   ],
   "source": [
    "#An undersampled dataset is created to tune the parameters using Grid-Search\n",
    "Ytrain_df = pd.DataFrame(Ytrain_final)\n",
    "Ytrain_df = Ytrain_df.rename(columns={0: 'Class'})\n",
    "Train_set= pd.merge(Xtrain_final, Ytrain_df, how='inner', left_index=True, right_index=True)\n",
    "Train_set.head()"
   ]
  },
  {
   "cell_type": "code",
   "execution_count": 34,
   "metadata": {},
   "outputs": [
    {
     "data": {
      "text/plain": [
       "(170883, 30)"
      ]
     },
     "execution_count": 34,
     "metadata": {},
     "output_type": "execute_result"
    }
   ],
   "source": [
    "Train_set.shape"
   ]
  },
  {
   "cell_type": "code",
   "execution_count": 35,
   "metadata": {},
   "outputs": [
    {
     "data": {
      "text/plain": [
       "329"
      ]
     },
     "execution_count": 35,
     "metadata": {},
     "output_type": "execute_result"
    }
   ],
   "source": [
    "#Length of Frauds\n",
    "length_frauds=len(Train_set[Train_set.Class==1])\n",
    "length_frauds"
   ]
  },
  {
   "cell_type": "code",
   "execution_count": 36,
   "metadata": {},
   "outputs": [
    {
     "data": {
      "text/html": [
       "<div>\n",
       "<style scoped>\n",
       "    .dataframe tbody tr th:only-of-type {\n",
       "        vertical-align: middle;\n",
       "    }\n",
       "\n",
       "    .dataframe tbody tr th {\n",
       "        vertical-align: top;\n",
       "    }\n",
       "\n",
       "    .dataframe thead th {\n",
       "        text-align: right;\n",
       "    }\n",
       "</style>\n",
       "<table border=\"1\" class=\"dataframe\">\n",
       "  <thead>\n",
       "    <tr style=\"text-align: right;\">\n",
       "      <th></th>\n",
       "      <th>Std_Amount</th>\n",
       "      <th>V1</th>\n",
       "      <th>V2</th>\n",
       "      <th>V3</th>\n",
       "      <th>V4</th>\n",
       "      <th>V5</th>\n",
       "      <th>V6</th>\n",
       "      <th>V7</th>\n",
       "      <th>V8</th>\n",
       "      <th>V9</th>\n",
       "      <th>...</th>\n",
       "      <th>V20</th>\n",
       "      <th>V21</th>\n",
       "      <th>V22</th>\n",
       "      <th>V23</th>\n",
       "      <th>V24</th>\n",
       "      <th>V25</th>\n",
       "      <th>V26</th>\n",
       "      <th>V27</th>\n",
       "      <th>V28</th>\n",
       "      <th>Class</th>\n",
       "    </tr>\n",
       "  </thead>\n",
       "  <tbody>\n",
       "    <tr>\n",
       "      <th>143188</th>\n",
       "      <td>-0.279466</td>\n",
       "      <td>-3.003459</td>\n",
       "      <td>2.096150</td>\n",
       "      <td>-0.487030</td>\n",
       "      <td>3.069453</td>\n",
       "      <td>-1.774329</td>\n",
       "      <td>0.251804</td>\n",
       "      <td>-4.328776</td>\n",
       "      <td>-2.425478</td>\n",
       "      <td>-0.985222</td>\n",
       "      <td>...</td>\n",
       "      <td>0.692537</td>\n",
       "      <td>0.163967</td>\n",
       "      <td>1.245648</td>\n",
       "      <td>-0.269241</td>\n",
       "      <td>0.537102</td>\n",
       "      <td>-0.220757</td>\n",
       "      <td>-0.059555</td>\n",
       "      <td>0.460710</td>\n",
       "      <td>-0.033551</td>\n",
       "      <td>1</td>\n",
       "    </tr>\n",
       "    <tr>\n",
       "      <th>86155</th>\n",
       "      <td>1.110878</td>\n",
       "      <td>-2.756007</td>\n",
       "      <td>0.683821</td>\n",
       "      <td>-1.390169</td>\n",
       "      <td>1.501887</td>\n",
       "      <td>-1.165614</td>\n",
       "      <td>-0.131207</td>\n",
       "      <td>-1.478741</td>\n",
       "      <td>-0.246922</td>\n",
       "      <td>-0.100523</td>\n",
       "      <td>...</td>\n",
       "      <td>-0.106945</td>\n",
       "      <td>0.320474</td>\n",
       "      <td>0.611027</td>\n",
       "      <td>0.174864</td>\n",
       "      <td>-0.502151</td>\n",
       "      <td>-0.174713</td>\n",
       "      <td>1.179242</td>\n",
       "      <td>-1.166315</td>\n",
       "      <td>0.821215</td>\n",
       "      <td>1</td>\n",
       "    </tr>\n",
       "    <tr>\n",
       "      <th>9487</th>\n",
       "      <td>-0.293440</td>\n",
       "      <td>-4.153014</td>\n",
       "      <td>8.204797</td>\n",
       "      <td>-15.031714</td>\n",
       "      <td>10.330100</td>\n",
       "      <td>-3.994426</td>\n",
       "      <td>-3.250013</td>\n",
       "      <td>-10.415698</td>\n",
       "      <td>4.620804</td>\n",
       "      <td>-5.711248</td>\n",
       "      <td>...</td>\n",
       "      <td>1.412625</td>\n",
       "      <td>1.976988</td>\n",
       "      <td>0.256510</td>\n",
       "      <td>0.485908</td>\n",
       "      <td>-1.198821</td>\n",
       "      <td>-0.526567</td>\n",
       "      <td>0.634874</td>\n",
       "      <td>1.627209</td>\n",
       "      <td>0.723235</td>\n",
       "      <td>1</td>\n",
       "    </tr>\n",
       "    <tr>\n",
       "      <th>163586</th>\n",
       "      <td>0.600852</td>\n",
       "      <td>0.949241</td>\n",
       "      <td>1.333519</td>\n",
       "      <td>-4.855402</td>\n",
       "      <td>1.835006</td>\n",
       "      <td>-1.053245</td>\n",
       "      <td>-2.562826</td>\n",
       "      <td>-2.286986</td>\n",
       "      <td>0.260906</td>\n",
       "      <td>-0.895366</td>\n",
       "      <td>...</td>\n",
       "      <td>0.424608</td>\n",
       "      <td>0.306598</td>\n",
       "      <td>-0.854627</td>\n",
       "      <td>0.101177</td>\n",
       "      <td>-0.281497</td>\n",
       "      <td>0.024444</td>\n",
       "      <td>-0.107944</td>\n",
       "      <td>0.625289</td>\n",
       "      <td>0.315677</td>\n",
       "      <td>1</td>\n",
       "    </tr>\n",
       "    <tr>\n",
       "      <th>223578</th>\n",
       "      <td>-0.183050</td>\n",
       "      <td>-5.256434</td>\n",
       "      <td>0.364541</td>\n",
       "      <td>-5.412085</td>\n",
       "      <td>2.400031</td>\n",
       "      <td>0.697301</td>\n",
       "      <td>-1.998755</td>\n",
       "      <td>-5.835532</td>\n",
       "      <td>-0.887739</td>\n",
       "      <td>-2.828287</td>\n",
       "      <td>...</td>\n",
       "      <td>-0.403685</td>\n",
       "      <td>-0.648259</td>\n",
       "      <td>0.511285</td>\n",
       "      <td>-1.110045</td>\n",
       "      <td>0.178987</td>\n",
       "      <td>0.220235</td>\n",
       "      <td>-0.699809</td>\n",
       "      <td>0.580487</td>\n",
       "      <td>-0.173630</td>\n",
       "      <td>1</td>\n",
       "    </tr>\n",
       "  </tbody>\n",
       "</table>\n",
       "<p>5 rows × 30 columns</p>\n",
       "</div>"
      ],
      "text/plain": [
       "        Std_Amount        V1        V2         V3         V4        V5  \\\n",
       "143188   -0.279466 -3.003459  2.096150  -0.487030   3.069453 -1.774329   \n",
       "86155     1.110878 -2.756007  0.683821  -1.390169   1.501887 -1.165614   \n",
       "9487     -0.293440 -4.153014  8.204797 -15.031714  10.330100 -3.994426   \n",
       "163586    0.600852  0.949241  1.333519  -4.855402   1.835006 -1.053245   \n",
       "223578   -0.183050 -5.256434  0.364541  -5.412085   2.400031  0.697301   \n",
       "\n",
       "              V6         V7        V8        V9  ...       V20       V21  \\\n",
       "143188  0.251804  -4.328776 -2.425478 -0.985222  ...  0.692537  0.163967   \n",
       "86155  -0.131207  -1.478741 -0.246922 -0.100523  ... -0.106945  0.320474   \n",
       "9487   -3.250013 -10.415698  4.620804 -5.711248  ...  1.412625  1.976988   \n",
       "163586 -2.562826  -2.286986  0.260906 -0.895366  ...  0.424608  0.306598   \n",
       "223578 -1.998755  -5.835532 -0.887739 -2.828287  ... -0.403685 -0.648259   \n",
       "\n",
       "             V22       V23       V24       V25       V26       V27       V28  \\\n",
       "143188  1.245648 -0.269241  0.537102 -0.220757 -0.059555  0.460710 -0.033551   \n",
       "86155   0.611027  0.174864 -0.502151 -0.174713  1.179242 -1.166315  0.821215   \n",
       "9487    0.256510  0.485908 -1.198821 -0.526567  0.634874  1.627209  0.723235   \n",
       "163586 -0.854627  0.101177 -0.281497  0.024444 -0.107944  0.625289  0.315677   \n",
       "223578  0.511285 -1.110045  0.178987  0.220235 -0.699809  0.580487 -0.173630   \n",
       "\n",
       "        Class  \n",
       "143188      1  \n",
       "86155       1  \n",
       "9487        1  \n",
       "163586      1  \n",
       "223578      1  \n",
       "\n",
       "[5 rows x 30 columns]"
      ]
     },
     "execution_count": 36,
     "metadata": {},
     "output_type": "execute_result"
    }
   ],
   "source": [
    "#Taking only Frauds in a dataframe\n",
    "fraud_df= Train_set.loc[Train_set['Class'] == 1]\n",
    "fraud_df.head()"
   ]
  },
  {
   "cell_type": "code",
   "execution_count": 37,
   "metadata": {},
   "outputs": [
    {
     "data": {
      "text/plain": [
       "(329, 30)"
      ]
     },
     "execution_count": 37,
     "metadata": {},
     "output_type": "execute_result"
    }
   ],
   "source": [
    "\n",
    "#Taking only Non-frauds\n",
    "non_fraud_df= Train_set.loc[Train_set['Class'] == 0]\n",
    "#Randomly select the same number of records as the Frauds\n",
    "non_frauds=non_fraud_df.sample(n=length_frauds)\n",
    "non_frauds.shape"
   ]
  },
  {
   "cell_type": "code",
   "execution_count": 38,
   "metadata": {},
   "outputs": [
    {
     "data": {
      "text/html": [
       "<div>\n",
       "<style scoped>\n",
       "    .dataframe tbody tr th:only-of-type {\n",
       "        vertical-align: middle;\n",
       "    }\n",
       "\n",
       "    .dataframe tbody tr th {\n",
       "        vertical-align: top;\n",
       "    }\n",
       "\n",
       "    .dataframe thead th {\n",
       "        text-align: right;\n",
       "    }\n",
       "</style>\n",
       "<table border=\"1\" class=\"dataframe\">\n",
       "  <thead>\n",
       "    <tr style=\"text-align: right;\">\n",
       "      <th></th>\n",
       "      <th>Std_Amount</th>\n",
       "      <th>V1</th>\n",
       "      <th>V2</th>\n",
       "      <th>V3</th>\n",
       "      <th>V4</th>\n",
       "      <th>V5</th>\n",
       "      <th>V6</th>\n",
       "      <th>V7</th>\n",
       "      <th>V8</th>\n",
       "      <th>V9</th>\n",
       "      <th>...</th>\n",
       "      <th>V20</th>\n",
       "      <th>V21</th>\n",
       "      <th>V22</th>\n",
       "      <th>V23</th>\n",
       "      <th>V24</th>\n",
       "      <th>V25</th>\n",
       "      <th>V26</th>\n",
       "      <th>V27</th>\n",
       "      <th>V28</th>\n",
       "      <th>Class</th>\n",
       "    </tr>\n",
       "  </thead>\n",
       "  <tbody>\n",
       "    <tr>\n",
       "      <th>42473</th>\n",
       "      <td>-0.254454</td>\n",
       "      <td>-3.600544</td>\n",
       "      <td>4.519047</td>\n",
       "      <td>-6.340884</td>\n",
       "      <td>6.214767</td>\n",
       "      <td>-5.829558</td>\n",
       "      <td>-2.478095</td>\n",
       "      <td>-9.938412</td>\n",
       "      <td>2.830086</td>\n",
       "      <td>-5.659162</td>\n",
       "      <td>...</td>\n",
       "      <td>1.384743</td>\n",
       "      <td>2.263770</td>\n",
       "      <td>0.620749</td>\n",
       "      <td>-0.094069</td>\n",
       "      <td>0.536719</td>\n",
       "      <td>0.398142</td>\n",
       "      <td>0.008277</td>\n",
       "      <td>2.053524</td>\n",
       "      <td>0.835749</td>\n",
       "      <td>1</td>\n",
       "    </tr>\n",
       "    <tr>\n",
       "      <th>102782</th>\n",
       "      <td>-0.033676</td>\n",
       "      <td>1.232604</td>\n",
       "      <td>-0.548931</td>\n",
       "      <td>1.087873</td>\n",
       "      <td>0.894082</td>\n",
       "      <td>-1.433055</td>\n",
       "      <td>-0.356797</td>\n",
       "      <td>-0.717492</td>\n",
       "      <td>0.003167</td>\n",
       "      <td>-0.100397</td>\n",
       "      <td>...</td>\n",
       "      <td>-0.576274</td>\n",
       "      <td>-0.448671</td>\n",
       "      <td>-0.517568</td>\n",
       "      <td>0.012833</td>\n",
       "      <td>0.699217</td>\n",
       "      <td>0.527258</td>\n",
       "      <td>-0.322607</td>\n",
       "      <td>0.080805</td>\n",
       "      <td>0.035427</td>\n",
       "      <td>1</td>\n",
       "    </tr>\n",
       "    <tr>\n",
       "      <th>139159</th>\n",
       "      <td>-0.217984</td>\n",
       "      <td>-0.691500</td>\n",
       "      <td>1.064111</td>\n",
       "      <td>1.131949</td>\n",
       "      <td>0.845470</td>\n",
       "      <td>-0.167266</td>\n",
       "      <td>-0.660122</td>\n",
       "      <td>0.394746</td>\n",
       "      <td>0.222811</td>\n",
       "      <td>-0.646601</td>\n",
       "      <td>...</td>\n",
       "      <td>-0.162351</td>\n",
       "      <td>0.210374</td>\n",
       "      <td>0.538242</td>\n",
       "      <td>-0.160603</td>\n",
       "      <td>0.514264</td>\n",
       "      <td>-0.392376</td>\n",
       "      <td>-0.399678</td>\n",
       "      <td>-0.246744</td>\n",
       "      <td>-0.160095</td>\n",
       "      <td>0</td>\n",
       "    </tr>\n",
       "    <tr>\n",
       "      <th>81609</th>\n",
       "      <td>19.109341</td>\n",
       "      <td>-2.326922</td>\n",
       "      <td>-3.348439</td>\n",
       "      <td>-3.513408</td>\n",
       "      <td>3.175060</td>\n",
       "      <td>-2.815137</td>\n",
       "      <td>-0.203363</td>\n",
       "      <td>-0.892144</td>\n",
       "      <td>0.333226</td>\n",
       "      <td>-0.802005</td>\n",
       "      <td>...</td>\n",
       "      <td>3.209171</td>\n",
       "      <td>1.226648</td>\n",
       "      <td>-0.695902</td>\n",
       "      <td>-1.478490</td>\n",
       "      <td>-0.061553</td>\n",
       "      <td>0.236155</td>\n",
       "      <td>0.531911</td>\n",
       "      <td>0.302324</td>\n",
       "      <td>0.536375</td>\n",
       "      <td>1</td>\n",
       "    </tr>\n",
       "    <tr>\n",
       "      <th>69498</th>\n",
       "      <td>-0.195626</td>\n",
       "      <td>0.385108</td>\n",
       "      <td>1.217620</td>\n",
       "      <td>-1.953872</td>\n",
       "      <td>2.087076</td>\n",
       "      <td>-1.144225</td>\n",
       "      <td>-0.576888</td>\n",
       "      <td>-2.582865</td>\n",
       "      <td>0.643230</td>\n",
       "      <td>-1.191233</td>\n",
       "      <td>...</td>\n",
       "      <td>0.380545</td>\n",
       "      <td>0.594623</td>\n",
       "      <td>0.372144</td>\n",
       "      <td>-0.310456</td>\n",
       "      <td>-0.624065</td>\n",
       "      <td>0.840216</td>\n",
       "      <td>-0.159452</td>\n",
       "      <td>0.599482</td>\n",
       "      <td>0.288916</td>\n",
       "      <td>1</td>\n",
       "    </tr>\n",
       "  </tbody>\n",
       "</table>\n",
       "<p>5 rows × 30 columns</p>\n",
       "</div>"
      ],
      "text/plain": [
       "        Std_Amount        V1        V2        V3        V4        V5  \\\n",
       "42473    -0.254454 -3.600544  4.519047 -6.340884  6.214767 -5.829558   \n",
       "102782   -0.033676  1.232604 -0.548931  1.087873  0.894082 -1.433055   \n",
       "139159   -0.217984 -0.691500  1.064111  1.131949  0.845470 -0.167266   \n",
       "81609    19.109341 -2.326922 -3.348439 -3.513408  3.175060 -2.815137   \n",
       "69498    -0.195626  0.385108  1.217620 -1.953872  2.087076 -1.144225   \n",
       "\n",
       "              V6        V7        V8        V9  ...       V20       V21  \\\n",
       "42473  -2.478095 -9.938412  2.830086 -5.659162  ...  1.384743  2.263770   \n",
       "102782 -0.356797 -0.717492  0.003167 -0.100397  ... -0.576274 -0.448671   \n",
       "139159 -0.660122  0.394746  0.222811 -0.646601  ... -0.162351  0.210374   \n",
       "81609  -0.203363 -0.892144  0.333226 -0.802005  ...  3.209171  1.226648   \n",
       "69498  -0.576888 -2.582865  0.643230 -1.191233  ...  0.380545  0.594623   \n",
       "\n",
       "             V22       V23       V24       V25       V26       V27       V28  \\\n",
       "42473   0.620749 -0.094069  0.536719  0.398142  0.008277  2.053524  0.835749   \n",
       "102782 -0.517568  0.012833  0.699217  0.527258 -0.322607  0.080805  0.035427   \n",
       "139159  0.538242 -0.160603  0.514264 -0.392376 -0.399678 -0.246744 -0.160095   \n",
       "81609  -0.695902 -1.478490 -0.061553  0.236155  0.531911  0.302324  0.536375   \n",
       "69498   0.372144 -0.310456 -0.624065  0.840216 -0.159452  0.599482  0.288916   \n",
       "\n",
       "        Class  \n",
       "42473       1  \n",
       "102782      1  \n",
       "139159      0  \n",
       "81609       1  \n",
       "69498       1  \n",
       "\n",
       "[5 rows x 30 columns]"
      ]
     },
     "execution_count": 38,
     "metadata": {},
     "output_type": "execute_result"
    }
   ],
   "source": [
    "#Appending both Frauds and Non-Frauds\n",
    "undersampled_df= fraud_df.append(non_frauds)\n",
    "#Randomly shuffling all the instances\n",
    "undersampled_df = sklearn.utils.shuffle(undersampled_df)\n",
    "undersampled_df.head()"
   ]
  },
  {
   "cell_type": "code",
   "execution_count": 39,
   "metadata": {},
   "outputs": [
    {
     "name": "stdout",
     "output_type": "stream",
     "text": [
      "(658, 29)\n",
      "(658,)\n"
     ]
    }
   ],
   "source": [
    "#Separating labels from the other features\n",
    "X_undersample = undersampled_df.drop('Class', axis=1)\n",
    "Y_undersample = undersampled_df['Class']\n",
    "print(X_undersample.shape)\n",
    "print(Y_undersample.shape)"
   ]
  },
  {
   "cell_type": "code",
   "execution_count": 40,
   "metadata": {},
   "outputs": [],
   "source": [
    "#Converting undersampled train sets in numpy arrays\n",
    "X_us_arr= X_undersample.values\n",
    "Y_us_arr= Y_undersample.values"
   ]
  },
  {
   "cell_type": "code",
   "execution_count": 41,
   "metadata": {},
   "outputs": [],
   "source": [
    "#Converting test and validation dataframes in numpy arrays\n",
    "Xval_arr=Xval.values\n",
    "Yval_arr=Yval.values\n",
    "Xtest_arr=Xtest.values\n",
    "Ytest_arr=Ytest.values"
   ]
  },
  {
   "cell_type": "code",
   "execution_count": 42,
   "metadata": {},
   "outputs": [
    {
     "name": "stdout",
     "output_type": "stream",
     "text": [
      "Model: \"sequential\"\n",
      "_________________________________________________________________\n",
      "Layer (type)                 Output Shape              Param #   \n",
      "=================================================================\n",
      "dense (Dense)                (None, 65)                1950      \n",
      "_________________________________________________________________\n",
      "dense_1 (Dense)              (None, 1)                 66        \n",
      "=================================================================\n",
      "Total params: 2,016\n",
      "Trainable params: 2,016\n",
      "Non-trainable params: 0\n",
      "_________________________________________________________________\n",
      "Epoch 1/30\n",
      "488/488 - 1s - loss: 0.0510 - accuracy: 0.9849 - val_loss: 0.0147 - val_accuracy: 0.9962\n",
      "Epoch 2/30\n",
      "488/488 - 1s - loss: 0.0098 - accuracy: 0.9981 - val_loss: 0.0114 - val_accuracy: 0.9976\n",
      "Epoch 3/30\n",
      "488/488 - 1s - loss: 0.0073 - accuracy: 0.9987 - val_loss: 0.0116 - val_accuracy: 0.9983\n",
      "Epoch 4/30\n",
      "488/488 - 1s - loss: 0.0050 - accuracy: 0.9992 - val_loss: 0.0092 - val_accuracy: 0.9986\n",
      "Epoch 5/30\n",
      "488/488 - 1s - loss: 0.0037 - accuracy: 0.9994 - val_loss: 0.0086 - val_accuracy: 0.9987\n",
      "Epoch 6/30\n",
      "488/488 - 1s - loss: 0.0031 - accuracy: 0.9994 - val_loss: 0.0073 - val_accuracy: 0.9990\n",
      "Epoch 7/30\n",
      "488/488 - 1s - loss: 0.0033 - accuracy: 0.9994 - val_loss: 0.0106 - val_accuracy: 0.9985\n",
      "Epoch 8/30\n",
      "488/488 - 1s - loss: 0.0019 - accuracy: 0.9996 - val_loss: 0.0131 - val_accuracy: 0.9985\n",
      "Epoch 9/30\n",
      "488/488 - 1s - loss: 0.0023 - accuracy: 0.9996 - val_loss: 0.0145 - val_accuracy: 0.9989\n",
      "Epoch 10/30\n",
      "488/488 - 1s - loss: 0.0038 - accuracy: 0.9995 - val_loss: 0.0112 - val_accuracy: 0.9991\n",
      "Epoch 11/30\n",
      "488/488 - 1s - loss: 0.0019 - accuracy: 0.9997 - val_loss: 0.0113 - val_accuracy: 0.9989\n",
      "Epoch 12/30\n",
      "488/488 - 1s - loss: 0.0027 - accuracy: 0.9995 - val_loss: 0.0152 - val_accuracy: 0.9984\n",
      "Epoch 13/30\n",
      "488/488 - 1s - loss: 0.0020 - accuracy: 0.9996 - val_loss: 0.0138 - val_accuracy: 0.9985\n",
      "Epoch 14/30\n",
      "488/488 - 1s - loss: 0.0015 - accuracy: 0.9997 - val_loss: 0.0110 - val_accuracy: 0.9989\n",
      "Epoch 15/30\n",
      "488/488 - 1s - loss: 0.0010 - accuracy: 0.9998 - val_loss: 0.0095 - val_accuracy: 0.9992\n",
      "Epoch 16/30\n",
      "488/488 - 1s - loss: 9.8073e-04 - accuracy: 0.9998 - val_loss: 0.0100 - val_accuracy: 0.9991\n",
      "Epoch 17/30\n",
      "488/488 - 1s - loss: 0.0011 - accuracy: 0.9998 - val_loss: 0.0098 - val_accuracy: 0.9992\n",
      "Epoch 18/30\n",
      "488/488 - 1s - loss: 0.0026 - accuracy: 0.9995 - val_loss: 0.0121 - val_accuracy: 0.9992\n",
      "Epoch 19/30\n",
      "488/488 - 1s - loss: 0.0012 - accuracy: 0.9998 - val_loss: 0.0117 - val_accuracy: 0.9992\n",
      "Epoch 20/30\n",
      "488/488 - 1s - loss: 9.0139e-04 - accuracy: 0.9998 - val_loss: 0.0103 - val_accuracy: 0.9993\n",
      "Epoch 21/30\n",
      "488/488 - 1s - loss: 6.0143e-04 - accuracy: 0.9999 - val_loss: 0.0109 - val_accuracy: 0.9991\n",
      "Epoch 22/30\n",
      "488/488 - 1s - loss: 0.0011 - accuracy: 0.9998 - val_loss: 0.0115 - val_accuracy: 0.9992\n",
      "Epoch 23/30\n",
      "488/488 - 1s - loss: 9.9399e-04 - accuracy: 0.9998 - val_loss: 0.0122 - val_accuracy: 0.9992\n",
      "Epoch 24/30\n",
      "488/488 - 1s - loss: 0.0016 - accuracy: 0.9997 - val_loss: 0.0133 - val_accuracy: 0.9989\n",
      "Epoch 25/30\n",
      "488/488 - 1s - loss: 0.0011 - accuracy: 0.9998 - val_loss: 0.0125 - val_accuracy: 0.9992\n",
      "Epoch 26/30\n",
      "488/488 - 1s - loss: 7.0494e-04 - accuracy: 0.9999 - val_loss: 0.0142 - val_accuracy: 0.9993\n",
      "Epoch 27/30\n",
      "488/488 - 1s - loss: 0.0011 - accuracy: 0.9998 - val_loss: 0.0159 - val_accuracy: 0.9987\n",
      "Epoch 28/30\n",
      "488/488 - 1s - loss: 0.0010 - accuracy: 0.9998 - val_loss: 0.0138 - val_accuracy: 0.9991\n",
      "Epoch 29/30\n",
      "488/488 - 1s - loss: 7.3724e-04 - accuracy: 0.9998 - val_loss: 0.0152 - val_accuracy: 0.9993\n",
      "Epoch 30/30\n",
      "488/488 - 1s - loss: 4.7109e-04 - accuracy: 0.9999 - val_loss: 0.0145 - val_accuracy: 0.9993\n",
      "dict_keys(['loss', 'accuracy', 'val_loss', 'val_accuracy'])\n"
     ]
    }
   ],
   "source": [
    "#Training a Multi-layer perceptron with 1 hidden layer on Oversampled dataset without using dropout and, using the parameters tuned above.\n",
    "n_inputs = X_adasampled.shape[1]\n",
    "#es= keras.callbacks.EarlyStopping(monitor='val_loss',\n",
    "                              #min_delta=0,\n",
    "                              #patience=2,\n",
    "                              #verbose=0, mode='min', restore_best_weights= True)\n",
    "#Model Creation\n",
    "Model1 = Sequential()\n",
    "Model1.add(Dense(65, input_shape=(n_inputs, ), kernel_initializer='he_normal', activation='relu'))\n",
    "Model1.add(Dense(1, kernel_initializer='he_normal', activation='sigmoid'))\n",
    "\n",
    "#Compile Model\n",
    "Model1.compile(Adam(lr=0.01), loss='binary_crossentropy', metrics=['accuracy'])\n",
    "Model1.summary()\n",
    "\n",
    "#Fit Model\n",
    "history1= Model1.fit(X_adasampled, Y_adasampled, validation_data=(Xval_arr, Yval_arr), batch_size=700, epochs=30,  shuffle=True, verbose=2)\n",
    "print(history1.history.keys())"
   ]
  },
  {
   "cell_type": "code",
   "execution_count": 43,
   "metadata": {},
   "outputs": [
    {
     "data": {
      "image/png": "[encoded data removed]",
      "text/plain": [
       "<Figure size 432x288 with 1 Axes>"
      ]
     },
     "metadata": {
      "needs_background": "light"
     },
     "output_type": "display_data"
    },
    {
     "data": {
      "image/png": "[encoded data removed]",
      "text/plain": [
       "<Figure size 432x288 with 1 Axes>"
      ]
     },
     "metadata": {
      "needs_background": "light"
     },
     "output_type": "display_data"
    }
   ],
   "source": [
    "# summarize history for accuracy\n",
    "plt.plot(history1.history['accuracy'])\n",
    "plt.plot(history1.history['val_accuracy'])\n",
    "plt.title('model accuracy')\n",
    "plt.ylabel('accuracy')\n",
    "plt.xlabel('epoch')\n",
    "plt.legend(['train', 'val'], loc='upper left')\n",
    "plt.show()\n",
    "# summarize history for loss\n",
    "plt.plot(history1.history['loss'])\n",
    "plt.plot(history1.history['val_loss'])\n",
    "plt.title('model loss')\n",
    "plt.ylabel('loss')\n",
    "plt.xlabel('epoch')\n",
    "plt.legend(['train', 'val'], loc='upper left')\n",
    "plt.show()"
   ]
  },
  {
   "cell_type": "code",
   "execution_count": 44,
   "metadata": {},
   "outputs": [
    {
     "name": "stdout",
     "output_type": "stream",
     "text": [
      "Model: \"sequential_1\"\n",
      "_________________________________________________________________\n",
      "Layer (type)                 Output Shape              Param #   \n",
      "=================================================================\n",
      "dense_2 (Dense)              (None, 65)                1950      \n",
      "_________________________________________________________________\n",
      "dropout (Dropout)            (None, 65)                0         \n",
      "_________________________________________________________________\n",
      "dense_3 (Dense)              (None, 1)                 66        \n",
      "=================================================================\n",
      "Total params: 2,016\n",
      "Trainable params: 2,016\n",
      "Non-trainable params: 0\n",
      "_________________________________________________________________\n",
      "Epoch 1/40\n",
      "488/488 - 1s - loss: 0.3317 - accuracy: 0.8721 - val_loss: 0.1381 - val_accuracy: 0.9569\n",
      "Epoch 2/40\n",
      "488/488 - 1s - loss: 0.1391 - accuracy: 0.9551 - val_loss: 0.0796 - val_accuracy: 0.9745\n",
      "Epoch 3/40\n",
      "488/488 - 1s - loss: 0.0904 - accuracy: 0.9757 - val_loss: 0.0576 - val_accuracy: 0.9808\n",
      "Epoch 4/40\n",
      "488/488 - 1s - loss: 0.0664 - accuracy: 0.9841 - val_loss: 0.0425 - val_accuracy: 0.9858\n",
      "Epoch 5/40\n",
      "488/488 - 1s - loss: 0.0514 - accuracy: 0.9881 - val_loss: 0.0347 - val_accuracy: 0.9884\n",
      "Epoch 6/40\n",
      "488/488 - 1s - loss: 0.0420 - accuracy: 0.9902 - val_loss: 0.0276 - val_accuracy: 0.9911\n",
      "Epoch 7/40\n",
      "488/488 - 1s - loss: 0.0354 - accuracy: 0.9916 - val_loss: 0.0230 - val_accuracy: 0.9929\n",
      "Epoch 8/40\n",
      "488/488 - 1s - loss: 0.0304 - accuracy: 0.9929 - val_loss: 0.0219 - val_accuracy: 0.9934\n",
      "Epoch 9/40\n",
      "488/488 - 1s - loss: 0.0262 - accuracy: 0.9939 - val_loss: 0.0176 - val_accuracy: 0.9945\n",
      "Epoch 10/40\n",
      "488/488 - 2s - loss: 0.0232 - accuracy: 0.9946 - val_loss: 0.0159 - val_accuracy: 0.9952\n",
      "Epoch 11/40\n",
      "488/488 - 1s - loss: 0.0203 - accuracy: 0.9952 - val_loss: 0.0153 - val_accuracy: 0.9956\n",
      "Epoch 12/40\n",
      "488/488 - 1s - loss: 0.0186 - accuracy: 0.9956 - val_loss: 0.0137 - val_accuracy: 0.9962\n",
      "Epoch 13/40\n",
      "488/488 - 1s - loss: 0.0167 - accuracy: 0.9960 - val_loss: 0.0122 - val_accuracy: 0.9967\n",
      "Epoch 14/40\n",
      "488/488 - 2s - loss: 0.0147 - accuracy: 0.9964 - val_loss: 0.0123 - val_accuracy: 0.9972\n",
      "Epoch 15/40\n",
      "488/488 - 2s - loss: 0.0140 - accuracy: 0.9968 - val_loss: 0.0112 - val_accuracy: 0.9975\n",
      "Epoch 16/40\n",
      "488/488 - 1s - loss: 0.0129 - accuracy: 0.9970 - val_loss: 0.0113 - val_accuracy: 0.9977\n",
      "Epoch 17/40\n",
      "488/488 - 1s - loss: 0.0116 - accuracy: 0.9973 - val_loss: 0.0111 - val_accuracy: 0.9978\n",
      "Epoch 18/40\n",
      "488/488 - 2s - loss: 0.0109 - accuracy: 0.9975 - val_loss: 0.0108 - val_accuracy: 0.9980\n",
      "Epoch 19/40\n",
      "488/488 - 2s - loss: 0.0105 - accuracy: 0.9975 - val_loss: 0.0101 - val_accuracy: 0.9982\n",
      "Epoch 20/40\n",
      "488/488 - 1s - loss: 0.0098 - accuracy: 0.9978 - val_loss: 0.0104 - val_accuracy: 0.9983\n",
      "Epoch 21/40\n",
      "488/488 - 2s - loss: 0.0090 - accuracy: 0.9980 - val_loss: 0.0108 - val_accuracy: 0.9984\n",
      "dict_keys(['loss', 'accuracy', 'val_loss', 'val_accuracy'])\n"
     ]
    }
   ],
   "source": [
    "#Training a Multi-layer perceptron with 1 hidden layer on Oversampled dataset using the parameters tuned above and adding a Dropout.\n",
    "n_inputs = X_adasampled.shape[1]\n",
    "es= tf.keras.callbacks.EarlyStopping(monitor='val_loss',\n",
    "                              min_delta=0,\n",
    "                              patience=2,\n",
    "                              verbose=0, mode='min', restore_best_weights= True)\n",
    "Model1_drop = Sequential()\n",
    "Model1_drop.add(Dense(65, input_shape=(n_inputs, ), kernel_initializer='he_normal', activation='relu'))\n",
    "Model1_drop.add(Dropout(0.5))\n",
    "Model1_drop.add(Dense(1, kernel_initializer='he_normal', activation='sigmoid'))\n",
    "\n",
    "Model1_drop.compile(Adam(lr=0.001), loss='binary_crossentropy', metrics=['accuracy'])\n",
    "Model1_drop.summary()\n",
    "\n",
    "history2= Model1_drop.fit(X_adasampled, Y_adasampled, validation_data=(Xval_arr, Yval_arr), batch_size=700, epochs=40, callbacks=[es], shuffle=True, verbose=2)\n",
    "print(history2.history.keys())"
   ]
  },
  {
   "cell_type": "code",
   "execution_count": 45,
   "metadata": {},
   "outputs": [
    {
     "data": {
      "image/png": "[encoded data removed]",
      "text/plain": [
       "<Figure size 432x288 with 1 Axes>"
      ]
     },
     "metadata": {
      "needs_background": "light"
     },
     "output_type": "display_data"
    },
    {
     "data": {
      "image/png": "[encoded data removed]",
      "text/plain": [
       "<Figure size 432x288 with 1 Axes>"
      ]
     },
     "metadata": {
      "needs_background": "light"
     },
     "output_type": "display_data"
    }
   ],
   "source": [
    "# summarize history for accuracy\n",
    "plt.plot(history2.history['accuracy'])\n",
    "plt.plot(history2.history['val_accuracy'])\n",
    "plt.title('model accuracy')\n",
    "plt.ylabel('accuracy')\n",
    "plt.xlabel('epoch')\n",
    "plt.legend(['train', 'val'], loc='upper left')\n",
    "plt.show()\n",
    "# summarize history for loss\n",
    "plt.plot(history2.history['loss'])\n",
    "plt.plot(history2.history['val_loss'])\n",
    "plt.title('model loss')\n",
    "plt.ylabel('loss')\n",
    "plt.xlabel('epoch')\n",
    "plt.legend(['train', 'val'], loc='upper left')\n",
    "plt.show()"
   ]
  },
  {
   "cell_type": "code",
   "execution_count": 46,
   "metadata": {},
   "outputs": [],
   "source": [
    "#function for confusion matrix\n",
    "def conf_matrix(predicted_values):\n",
    "    Predictions_CM = confusion_matrix(Ytest_arr, predicted_values, labels = [0, 1])\n",
    "    class_feat=dataset['Class'].copy()\n",
    "    class_feat= class_feat.unique()\n",
    "    fig, ax = plt.subplots(figsize=(5,5))\n",
    "    sns.heatmap(Predictions_CM, annot=True, fmt='d', xticklabels=class_feat, yticklabels=class_feat)\n",
    "    plt.ylabel('Actual Class')\n",
    "    plt.xlabel('Predicted Class')\n",
    "    plt.show()"
   ]
  },
  {
   "cell_type": "code",
   "execution_count": 47,
   "metadata": {},
   "outputs": [
    {
     "name": "stdout",
     "output_type": "stream",
     "text": [
      "WARNING:tensorflow:From <ipython-input-47-8da2efb8e42f>:1: Sequential.predict_classes (from tensorflow.python.keras.engine.sequential) is deprecated and will be removed after 2021-01-01.\n",
      "Instructions for updating:\n",
      "Please use instead:* `np.argmax(model.predict(x), axis=-1)`,   if your model does multi-class classification   (e.g. if it uses a `softmax` last-layer activation).* `(model.predict(x) > 0.5).astype(\"int32\")`,   if your model does binary classification   (e.g. if it uses a `sigmoid` last-layer activation).\n",
      "1781/1781 [==============================] - 2s 984us/step - loss: 0.0076 - accuracy: 0.9983\n",
      "Accuracy Model1 (Dropout): 0.9982619881629944\n",
      "Recall_score: 0.9489795918367347\n",
      "Precision_score: 0.49732620320855614\n",
      "F-score: 0.6526315789473683\n"
     ]
    },
    {
     "data": {
      "image/png": "[encoded data removed]",
      "text/plain": [
       "<Figure size 360x360 with 2 Axes>"
      ]
     },
     "metadata": {
      "needs_background": "light"
     },
     "output_type": "display_data"
    }
   ],
   "source": [
    "Y_pred_cls = Model1_drop.predict_classes(Xtest_arr, batch_size=200, verbose=0)\n",
    "print('Accuracy Model1 (Dropout): '+ str(Model1_drop.evaluate(Xtest_arr,Ytest_arr)[1]))\n",
    "print('Recall_score: ' + str(recall_score(Ytest_arr,Y_pred_cls)))\n",
    "print('Precision_score: ' + str(precision_score(Ytest_arr, Y_pred_cls)))\n",
    "print('F-score: ' + str(f1_score(Ytest_arr,Y_pred_cls)))\n",
    "conf_matrix(Y_pred_cls)"
   ]
  },
  {
   "cell_type": "code",
   "execution_count": 48,
   "metadata": {},
   "outputs": [
    {
     "name": "stdout",
     "output_type": "stream",
     "text": [
      "WARNING:tensorflow:From <ipython-input-48-9a0b52610355>:2: Sequential.predict_proba (from tensorflow.python.keras.engine.sequential) is deprecated and will be removed after 2021-01-01.\n",
      "Instructions for updating:\n",
      "Please use `model.predict()` instead.\n"
     ]
    },
    {
     "data": {
      "image/png": "[encoded data removed]",
      "text/plain": [
       "<Figure size 432x288 with 1 Axes>"
      ]
     },
     "metadata": {
      "needs_background": "light"
     },
     "output_type": "display_data"
    }
   ],
   "source": [
    "#Plotting ROC curve\n",
    "Y_pred_prob = Model1_drop.predict_proba(Xtest_arr).ravel()\n",
    "\n",
    "fpr_model1, tpr_model1, thresholds_model1 = roc_curve(Ytest_arr, Y_pred_prob, pos_label=1)\n",
    "auc_model1 = roc_auc_score(Ytest_arr, Y_pred_prob)\n",
    "\n",
    "plt.figure(1)\n",
    "plt.plot([0, 1], [0, 1], 'k--')\n",
    "# plot no skill\n",
    "plt.plot([0, 1], [0, 1], linestyle='--')\n",
    "#plot the roc curve for the model\n",
    "plt.plot(fpr_model1, tpr_model1, label='ROC (area = {:.3f})'.format(auc_model1))\n",
    "#plt.plot(fpr_rf, tpr_rf, label='RF (area = {:.3f})'.format(auc_rf))\n",
    "plt.xlabel('False positive rate')\n",
    "plt.ylabel('True positive rate')\n",
    "plt.title('ROC curve')\n",
    "plt.legend(loc='best')\n",
    "plt.show()"
   ]
  },
  {
   "cell_type": "markdown",
   "metadata": {},
   "source": [
    "ROC curves are generally not well suited for imbalanced datasets, as they make use of TN. Thus, they can be deceptive. In contrast, TN are not considered in the PR-curve. Hence, they are more suitable for an imbalanced classification."
   ]
  },
  {
   "cell_type": "code",
   "execution_count": 49,
   "metadata": {},
   "outputs": [
    {
     "data": {
      "image/png": "[encoded data removed]",
      "text/plain": [
       "<Figure size 432x288 with 1 Axes>"
      ]
     },
     "metadata": {
      "needs_background": "light"
     },
     "output_type": "display_data"
    }
   ],
   "source": [
    "#Calculating Precision and Recall for various thresholds\n",
    "precision, recall, thresholds_pr = precision_recall_curve(Ytest_arr, Y_pred_prob)\n",
    "\n",
    "#Auc for PR curve\n",
    "AUC_PRcurve= auc(recall, precision)\n",
    "\n",
    "plt.figure(1)\n",
    "# plot no skill\n",
    "plt.plot([0, 1], [0.5, 0.5], linestyle='--')\n",
    "#plot PR curve\n",
    "plt.plot(precision, recall, label = \"AUC = {:0.2f}\".format(AUC_PRcurve), lw = 3, alpha = 0.7)\n",
    "plt.xlabel('Precision', fontsize = 14)\n",
    "plt.ylabel('Recall', fontsize = 14)\n",
    "plt.title('Precision-Recall Curve', fontsize = 18)\n",
    "plt.legend(loc='best')\n",
    "plt.show()"
   ]
  },
  {
   "cell_type": "code",
   "execution_count": 50,
   "metadata": {},
   "outputs": [
    {
     "name": "stdout",
     "output_type": "stream",
     "text": [
      "[0.6086956521739131, 0.6595744680851063, 0.6838235294117647, 0.6503496503496504, 0.7045454545454546, 0.6188925081433224, 0.5949367088607596, 0.6596491228070176, 0.657243816254417, 0.6064516129032258, 0.6643109540636042, 0.6372881355932204, 0.5792682926829268, 0.6433566433566433, 0.5893416927899686, 0.6123778501628665, 0.5723076923076923, 0.7022900763358778, 0.6937269372693725, 0.6112956810631229, 0.6287625418060201, 0.632996632996633, 0.6433566433566433, 0.6762589928057555, 0.6666666666666667, 0.6440677966101696, 0.6372881355932204, 0.6148867313915858, 0.47029702970297027, 0.6666666666666667, 0.5993485342019544, 0.6594982078853047, 0.5723076923076923, 0.6482758620689655, 0.6666666666666666, 0.6737588652482269, 0.6550522648083624, 0.6397306397306397, 0.6549295774647887, 0.632996632996633, 0.6943396226415095, 0.636986301369863, 0.5696594427244582, 0.6482758620689655, 0.6312292358803986, 0.6351351351351352, 0.6089743589743589, 0.6789667896678966, 0.6503496503496504, 0.6372881355932204, 0.6366782006920416, 0.6594982078853047, 0.6785714285714285, 0.6484641638225256, 0.6058631921824104, 0.6643356643356644, 0.6573426573426573, 0.5822784810126582, 0.6501766784452297, 0.5919003115264797]\n",
      "FScore Mean: 0.6366642130059558\n",
      "----------------------------------------------------------------------------------------\n"
     ]
    }
   ],
   "source": [
    "#Training Multi-layer Perceptron with single hidden layer for 60 iterations and, appending the F-score for each iteration.\n",
    "f_scorelist1=[]\n",
    "\n",
    "n_inputs = X_adasampled.shape[1]\n",
    "es= tf.keras.callbacks.EarlyStopping(monitor='val_loss',\n",
    "                              min_delta=0,\n",
    "                              patience=2,\n",
    "                              verbose=0, mode='min', restore_best_weights= True)\n",
    "for i in range(0,60):\n",
    "    First_Model = Sequential()\n",
    "    First_Model.add(Dense(65, input_shape=(n_inputs, ), kernel_initializer='he_normal', activation='relu'))\n",
    "    First_Model.add(Dropout(0.5))\n",
    "    First_Model.add(Dense(1, kernel_initializer='he_normal', activation='sigmoid'))\n",
    "\n",
    "    First_Model.compile(Adam(lr=0.001), loss='binary_crossentropy', metrics=['accuracy'])\n",
    "    \n",
    "    First_Model.fit(X_adasampled, Y_adasampled, validation_data=(Xval_arr, Yval_arr), batch_size=700, epochs=40, callbacks=[es], shuffle=True, verbose=0)\n",
    "    Y_first_pred = First_Model.predict_classes(Xtest_arr, batch_size=200, verbose=0)\n",
    "    \n",
    "    f_score= f1_score(Ytest_arr,Y_first_pred)\n",
    "    f_scorelist1.append(f_score)\n",
    "\n",
    "print(f_scorelist1)\n",
    "print('FScore Mean: '+ str(np.mean(f_scorelist1)))\n",
    "print('-'*88)"
   ]
  },
  {
   "cell_type": "code",
   "execution_count": 51,
   "metadata": {},
   "outputs": [
    {
     "name": "stdout",
     "output_type": "stream",
     "text": [
      "Epoch 1/40\n",
      "488/488 - 2s - loss: 0.4213 - accuracy: 0.8362 - val_loss: 0.1287 - val_accuracy: 0.9479\n",
      "Epoch 2/40\n",
      "488/488 - 2s - loss: 0.1395 - accuracy: 0.9532 - val_loss: 0.0562 - val_accuracy: 0.9785\n",
      "Epoch 3/40\n",
      "488/488 - 2s - loss: 0.0722 - accuracy: 0.9805 - val_loss: 0.0294 - val_accuracy: 0.9906\n",
      "Epoch 4/40\n",
      "488/488 - 2s - loss: 0.0442 - accuracy: 0.9890 - val_loss: 0.0208 - val_accuracy: 0.9944\n",
      "Epoch 5/40\n",
      "488/488 - 2s - loss: 0.0305 - accuracy: 0.9929 - val_loss: 0.0169 - val_accuracy: 0.9962\n",
      "Epoch 6/40\n",
      "488/488 - 2s - loss: 0.0233 - accuracy: 0.9948 - val_loss: 0.0147 - val_accuracy: 0.9969\n",
      "Epoch 7/40\n",
      "488/488 - 2s - loss: 0.0187 - accuracy: 0.9960 - val_loss: 0.0134 - val_accuracy: 0.9976\n",
      "Epoch 8/40\n",
      "488/488 - 2s - loss: 0.0155 - accuracy: 0.9968 - val_loss: 0.0127 - val_accuracy: 0.9980\n",
      "Epoch 9/40\n",
      "488/488 - 2s - loss: 0.0137 - accuracy: 0.9973 - val_loss: 0.0124 - val_accuracy: 0.9985\n",
      "Epoch 10/40\n",
      "488/488 - 2s - loss: 0.0123 - accuracy: 0.9976 - val_loss: 0.0116 - val_accuracy: 0.9987\n",
      "Epoch 11/40\n",
      "488/488 - 2s - loss: 0.0106 - accuracy: 0.9979 - val_loss: 0.0130 - val_accuracy: 0.9986\n",
      "Epoch 12/40\n",
      "488/488 - 2s - loss: 0.0100 - accuracy: 0.9981 - val_loss: 0.0135 - val_accuracy: 0.9988\n",
      "dict_keys(['loss', 'accuracy', 'val_loss', 'val_accuracy'])\n"
     ]
    }
   ],
   "source": [
    "\n",
    "#Training Multi-layer perceptron with 2 hidden layers\n",
    "es= tf.keras.callbacks.EarlyStopping(monitor='val_loss',\n",
    "                              min_delta=0,\n",
    "                              patience=2,\n",
    "                              verbose=0, mode='min', restore_best_weights= True)\n",
    "Model2 = Sequential()\n",
    "Model2.add(Dense(65, input_shape=(n_inputs, ), kernel_initializer='he_normal', activation='relu'))\n",
    "Model2.add(Dropout(0.5))\n",
    "Model2.add(Dense(65, kernel_initializer='he_normal', activation='relu'))\n",
    "Model2.add(Dropout(0.5))\n",
    "Model2.add(Dense(1, kernel_initializer='he_normal', activation='sigmoid'))\n",
    "\n",
    "Model2.compile(Adam(lr=0.001), loss='binary_crossentropy', metrics=['accuracy'])\n",
    "    \n",
    "his_mod2= Model2.fit(X_adasampled, Y_adasampled, validation_data=(Xval_arr, Yval_arr), batch_size=700, epochs=40, callbacks=[es], shuffle=True, verbose=2)\n",
    "print(his_mod2.history.keys())"
   ]
  },
  {
   "cell_type": "code",
   "execution_count": 53,
   "metadata": {},
   "outputs": [
    {
     "data": {
      "image/png": "[encoded data removed]",
      "text/plain": [
       "<Figure size 432x288 with 1 Axes>"
      ]
     },
     "metadata": {
      "needs_background": "light"
     },
     "output_type": "display_data"
    },
    {
     "data": {
      "image/png": "[encoded data removed]",
      "text/plain": [
       "<Figure size 432x288 with 1 Axes>"
      ]
     },
     "metadata": {
      "needs_background": "light"
     },
     "output_type": "display_data"
    }
   ],
   "source": [
    "# summarize history for accuracy\n",
    "plt.plot(his_mod2.history['accuracy'])\n",
    "plt.plot(his_mod2.history['val_accuracy'])\n",
    "plt.title('model accuracy')\n",
    "plt.ylabel('accuracy')\n",
    "plt.xlabel('epoch')\n",
    "plt.legend(['train', 'val'], loc='upper left')\n",
    "plt.show()\n",
    "# summarize history for loss\n",
    "plt.plot(his_mod2.history['loss'])\n",
    "plt.plot(his_mod2.history['val_loss'])\n",
    "plt.title('model loss')\n",
    "plt.ylabel('loss')\n",
    "plt.xlabel('epoch')\n",
    "plt.legend(['train', 'val'], loc='upper left')\n",
    "plt.show()"
   ]
  },
  {
   "cell_type": "code",
   "execution_count": 54,
   "metadata": {},
   "outputs": [
    {
     "name": "stdout",
     "output_type": "stream",
     "text": [
      "1781/1781 [==============================] - 2s 847us/step - loss: 0.0076 - accuracy: 0.9985\n",
      "Accuracy MLP: 0.9985077977180481\n",
      "1781/1781 [==============================] - 1s 757us/step - loss: 0.0076 - accuracy: 0.9985\n",
      "Loss value: 0.007560070604085922\n",
      "Recall_score: 0.9489795918367347\n",
      "Precision_score: 0.5375722543352601\n",
      "F-score: 0.6863468634686347\n"
     ]
    },
    {
     "data": {
      "image/png": "[encoded data removed]",
      "text/plain": [
       "<Figure size 360x360 with 2 Axes>"
      ]
     },
     "metadata": {
      "needs_background": "light"
     },
     "output_type": "display_data"
    }
   ],
   "source": [
    "print('Accuracy MLP: '+ str(Model2.evaluate(Xtest_arr,Ytest_arr)[1]))\n",
    "print('Loss value: '+ str(Model2.evaluate(Xtest_arr,Ytest_arr)[0]))\n",
    "\n",
    "Y_mod2_pred = Model2.predict_classes(Xtest_arr, batch_size=200, verbose=0)\n",
    "print('Recall_score: ' + str(recall_score(Ytest_arr,Y_mod2_pred)))\n",
    "print('Precision_score: ' + str(precision_score(Ytest_arr, Y_mod2_pred)))\n",
    "print('F-score: ' + str(f1_score(Ytest_arr,Y_mod2_pred)))\n",
    "conf_matrix(Y_mod2_pred)"
   ]
  },
  {
   "cell_type": "code",
   "execution_count": 55,
   "metadata": {},
   "outputs": [
    {
     "data": {
      "image/png": "[encoded data removed]",
      "text/plain": [
       "<Figure size 432x288 with 1 Axes>"
      ]
     },
     "metadata": {
      "needs_background": "light"
     },
     "output_type": "display_data"
    }
   ],
   "source": [
    "Y_pred_prob2 = Model2.predict_proba(Xtest_arr).ravel()\n",
    "\n",
    "fpr_model2, tpr_model2, thresholds_model2 = roc_curve(Ytest_arr, Y_pred_prob2, pos_label=1)\n",
    "auc_model2 = roc_auc_score(Ytest_arr, Y_pred_prob2)\n",
    "\n",
    "plt.figure(1)\n",
    "plt.plot([0, 1], [0, 1], 'k--')\n",
    "# plot no skill\n",
    "plt.plot([0, 1], [0, 1], linestyle='--')\n",
    "#plot the roc curve for the model\n",
    "plt.plot(fpr_model1, tpr_model1, label='ROC Model_1 (area = {:.3f})'.format(auc_model1))\n",
    "plt.plot(fpr_model2, tpr_model2, label='ROC MOdel_2 (area = {:.3f})'.format(auc_model2))\n",
    "plt.xlabel('False positive rate')\n",
    "plt.ylabel('True positive rate')\n",
    "plt.title('ROC curve')\n",
    "plt.legend(loc='best')\n",
    "plt.show()"
   ]
  },
  {
   "cell_type": "code",
   "execution_count": 56,
   "metadata": {},
   "outputs": [
    {
     "data": {
      "image/png": "[encoded data removed]",
      "text/plain": [
       "<Figure size 432x288 with 1 Axes>"
      ]
     },
     "metadata": {
      "needs_background": "light"
     },
     "output_type": "display_data"
    }
   ],
   "source": [
    "\n",
    "#Calculating Precision and Recall for various thresholds\n",
    "precision_2, recall_2, thresholds_pr_2 = precision_recall_curve(Ytest_arr, Y_pred_prob2)\n",
    "\n",
    "#Auc for PR curve\n",
    "AUC_PRcurve_2= auc(recall_2, precision_2)\n",
    "\n",
    "plt.figure(1)\n",
    "# plot no skill\n",
    "plt.plot([0, 1], [0.5, 0.5], linestyle='--')\n",
    "#plot PR curve\n",
    "plt.plot(precision, recall, label = \"AUC Model_1 = {:0.2f}\".format(AUC_PRcurve), lw = 3, alpha = 0.7)\n",
    "plt.plot(precision_2, recall_2, label = \"AUC Model_2 = {:0.2f}\".format(AUC_PRcurve_2), lw = 3, alpha = 0.7)\n",
    "plt.xlabel('Precision', fontsize = 14)\n",
    "plt.ylabel('Recall', fontsize = 14)\n",
    "plt.title('Precision-Recall Curve', fontsize = 18)\n",
    "plt.legend(loc='best')\n",
    "plt.show()"
   ]
  },
  {
   "cell_type": "code",
   "execution_count": 58,
   "metadata": {},
   "outputs": [
    {
     "name": "stdout",
     "output_type": "stream",
     "text": [
      "[0.6506849315068494, 0.6505190311418686, 0.6438356164383561, 0.6594982078853047, 0.6344827586206897, 0.6462585034013605, 0.6763636363636365, 0.5820433436532507, 0.7049808429118775, 0.5980707395498392, 0.6917293233082707, 0.681159420289855, 0.6270627062706271, 0.6940298507462687, 0.611842105263158, 0.6713780918727914, 0.6643109540636042, 0.6548042704626335, 0.6506849315068494, 0.6763636363636365, 0.683453237410072, 0.7272727272727273, 0.673913043478261, 0.6619718309859155, 0.662020905923345, 0.6464646464646464, 0.6594982078853047, 0.6225165562913907, 0.6737588652482269, 0.6838235294117647, 0.6262626262626263, 0.6433566433566433, 0.6666666666666666, 0.6506849315068494, 0.6861313868613138, 0.6962962962962962, 0.662020905923345, 0.6619718309859155, 0.676470588235294, 0.6737588652482269, 0.6075949367088608, 0.6270627062706271, 0.6148867313915858, 0.6225165562913907, 0.6270627062706271, 0.6394557823129252, 0.6934306569343065, 0.6266666666666667, 0.7041198501872659, 0.6596491228070176, 0.5838509316770186, 0.7011070110701108, 0.6884057971014493, 0.6666666666666666, 0.5882352941176471, 0.6375838926174496, 0.6460481099656358, 0.6431095406360424, 0.6237288135593221, 0.6241610738255033]\n",
      "FScore Mean: 0.6538960006735614\n",
      "----------------------------------------------------------------------------------------\n"
     ]
    }
   ],
   "source": [
    "#Iterating Model-2 with 2 hidden layer for 60 iterations.\n",
    "\n",
    "f_scorelist2=[]\n",
    "\n",
    "n_inputs = X_adasampled.shape[1]\n",
    "es= tf.keras.callbacks.EarlyStopping(monitor='val_loss',\n",
    "                              min_delta=0,\n",
    "                              patience=2,\n",
    "                              verbose=0, mode='min', restore_best_weights= True)\n",
    "for i in range(0,60):\n",
    "    \n",
    "    Second_Model = Sequential()\n",
    "    Second_Model.add(Dense(65, input_shape=(n_inputs, ), kernel_initializer='he_normal', activation='relu'))\n",
    "    Second_Model.add(Dropout(0.5))\n",
    "    Second_Model.add(Dense(65, kernel_initializer='he_normal', activation='relu'))\n",
    "    Second_Model.add(Dropout(0.5))\n",
    "    Second_Model.add(Dense(1, kernel_initializer='he_normal', activation='sigmoid'))\n",
    "\n",
    "    Second_Model.compile(Adam(lr=0.001), loss='binary_crossentropy', metrics=['accuracy'])\n",
    "\n",
    "    Second_Model.fit(X_adasampled, Y_adasampled, validation_data=(Xval_arr, Yval_arr), batch_size=700, epochs=40, callbacks=[es], shuffle=True, verbose=0)\n",
    "    Y_second_pred = Second_Model.predict_classes(Xtest_arr, batch_size=200, verbose=0)\n",
    "    \n",
    "    f_score= f1_score(Ytest_arr,Y_second_pred)\n",
    "    f_scorelist2.append(f_score)\n",
    "\n",
    "print(f_scorelist2)\n",
    "print('FScore Mean: '+ str(np.mean(f_scorelist2)))\n",
    "print('-'*88)"
   ]
  },
  {
   "cell_type": "code",
   "execution_count": 59,
   "metadata": {},
   "outputs": [
    {
     "name": "stdout",
     "output_type": "stream",
     "text": [
      "Model-1\n",
      "---------\n",
      "Average F-Score: 0.6366642130059558\n",
      "----------------------------------------\n",
      "Model-2\n",
      "---------\n",
      "Average F-Score: 0.6538960006735614\n"
     ]
    }
   ],
   "source": [
    "#Comparing the mean performance of the F-score for both the models\n",
    "print('Model-1')\n",
    "print('---------')\n",
    "print('Average F-Score: '+ str(np.mean(f_scorelist1)))\n",
    "\n",
    "print('-'*40)\n",
    "\n",
    "print('Model-2')\n",
    "print('---------')\n",
    "print('Average F-Score: '+ str(np.mean(f_scorelist2)))"
   ]
  },
  {
   "cell_type": "code",
   "execution_count": 60,
   "metadata": {},
   "outputs": [
    {
     "name": "stdout",
     "output_type": "stream",
     "text": [
      "Model-1\n",
      "------------------\n",
      "F_score SD: 0    0.039663\n",
      "dtype: float64\n",
      "----------------------------------------\n",
      "Model-2\n",
      "------------------\n",
      "F_score SD: 0    0.031745\n",
      "dtype: float64\n"
     ]
    }
   ],
   "source": [
    "#Comparing the Standard Deviation for F-scores generated after iterations\n",
    "fscore_df1=pd.DataFrame(f_scorelist1)\n",
    "\n",
    "print('Model-1')\n",
    "print('------------------')\n",
    "print('F_score SD: ' + str(fscore_df1.std()))\n",
    "\n",
    "print('-'*40)\n",
    "\n",
    "fscore_df2=pd.DataFrame(f_scorelist2)\n",
    "\n",
    "print('Model-2')\n",
    "print('------------------')\n",
    "print('F_score SD: ' + str(fscore_df2.std()))"
   ]
  },
  {
   "cell_type": "code",
   "execution_count": 61,
   "metadata": {},
   "outputs": [
    {
     "data": {
      "text/plain": [
       "<matplotlib.axes._subplots.AxesSubplot at 0x17e9cda5088>"
      ]
     },
     "execution_count": 61,
     "metadata": {},
     "output_type": "execute_result"
    },
    {
     "data": {
      "image/png": "[encoded data removed]",
      "text/plain": [
       "<Figure size 432x288 with 1 Axes>"
      ]
     },
     "metadata": {
      "needs_background": "light"
     },
     "output_type": "display_data"
    }
   ],
   "source": [
    "#Visualize the results using a boxplot()\n",
    "\n",
    "results_fscore= pd.concat([fscore_df1, fscore_df2], axis=1)\n",
    "results_fscore.columns = ['Model_1_fscore', 'Model_2_fscore']\n",
    "\n",
    "results_fscore.boxplot()"
   ]
  },
  {
   "cell_type": "code",
   "execution_count": 63,
   "metadata": {},
   "outputs": [
    {
     "data": {
      "text/plain": [
       "array([[<matplotlib.axes._subplots.AxesSubplot object at 0x0000017EAD03E1C8>,\n",
       "        <matplotlib.axes._subplots.AxesSubplot object at 0x0000017EACCB2448>]],\n",
       "      dtype=object)"
      ]
     },
     "execution_count": 63,
     "metadata": {},
     "output_type": "execute_result"
    },
    {
     "data": {
      "image/png": "[encoded data removed]",
      "text/plain": [
       "<Figure size 432x288 with 2 Axes>"
      ]
     },
     "metadata": {
      "needs_background": "light"
     },
     "output_type": "display_data"
    }
   ],
   "source": [
    "#Distribution of the data using a Histogram\n",
    "results_fscore.hist()"
   ]
  },
  {
   "cell_type": "code",
   "execution_count": 65,
   "metadata": {},
   "outputs": [
    {
     "name": "stdout",
     "output_type": "stream",
     "text": [
      "Model-1 Data is not normal\n",
      "Model-2 Data is normal\n"
     ]
    }
   ],
   "source": [
    "#Testing the Null Hypothesis that a sample comes from a Normal Distribution\n",
    "alpha = 0.05;\n",
    "\n",
    "s, p = stats.normaltest(fscore_df1)\n",
    "if p < alpha:\n",
    "    print('Model-1 Data is not normal')\n",
    "else:\n",
    "    print('Model-1 Data is normal')\n",
    "\n",
    "s, p = stats.normaltest(fscore_df2)\n",
    "if p < alpha:\n",
    "    print('Model-2 Data is not normal')\n",
    "else:\n",
    "    print('Model-2 Data is normal')"
   ]
  },
  {
   "cell_type": "code",
   "execution_count": 67,
   "metadata": {},
   "outputs": [
    {
     "name": "stdout",
     "output_type": "stream",
     "text": [
      "null hypothesis rejected, significant difference between the data-sets\n"
     ]
    }
   ],
   "source": [
    "#Wilcoxon Signed-Rank Test\n",
    "#It tests the null hypothesis that two related paired samples come from the same distribution.\n",
    "#It is a non-parametric version of the paired T-test.\n",
    "\n",
    "s, p = stats.wilcoxon(fscore_df1[0], fscore_df2[0])\n",
    "\n",
    "if p < 0.05:\n",
    "    print('null hypothesis rejected, significant difference between the data-sets')\n",
    "else:\n",
    "    print('null hypothesis accepted, no significant difference between the data-sets')"
   ]
  },
  {
   "cell_type": "code",
   "execution_count": null,
   "metadata": {},
   "outputs": [],
   "source": []
  }
 ],
 "metadata": {
  "kernelspec": {
   "display_name": "Python 3",
   "language": "python",
   "name": "python3"
  },
  "language_info": {
   "codemirror_mode": {
    "name": "ipython",
    "version": 3
   },
   "file_extension": ".py",
   "mimetype": "text/x-python",
   "name": "python",
   "nbconvert_exporter": "python",
   "pygments_lexer": "ipython3",
   "version": "3.7.4"
  }
 },
 "nbformat": 4,
 "nbformat_minor": 4
}
